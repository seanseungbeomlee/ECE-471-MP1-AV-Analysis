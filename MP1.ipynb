{
  "cells": [
    {
      "cell_type": "markdown",
      "source": [
        "# ECE471 Fall 2022 MP1 Checkpoint 1\n",
        "Dante Howard (danteah2) \\\\\n",
        "Guifu Liu (guiful2) \\\\\n",
        "Sean Lee (sl84)"
      ],
      "metadata": {
        "id": "ujvRI3xlNXXF"
      },
      "id": "ujvRI3xlNXXF"
    },
    {
      "cell_type": "markdown",
      "source": [
        "# Setup\n",
        "Fetch and import dataset collected from Carla client, as well as libraries used. "
      ],
      "metadata": {
        "id": "pXwxDcG7OVDa"
      },
      "id": "pXwxDcG7OVDa"
    },
    {
      "cell_type": "code",
      "source": [
        "!git clone https://github.com/seanseungbeomlee/ECE_471_MP1_AV_Analysis"
      ],
      "metadata": {
        "id": "hqYC7U4nVUZS",
        "outputId": "a8ce6a88-97da-4ced-dba0-4f9ac62e4141",
        "colab": {
          "base_uri": "https://localhost:8080/"
        }
      },
      "id": "hqYC7U4nVUZS",
      "execution_count": 93,
      "outputs": [
        {
          "output_type": "stream",
          "name": "stdout",
          "text": [
            "fatal: destination path 'ECE_471_MP1_AV_Analysis' already exists and is not an empty directory.\n"
          ]
        }
      ]
    },
    {
      "cell_type": "code",
      "execution_count": null,
      "id": "29975330",
      "metadata": {
        "ExecuteTime": {
          "end_time": "2022-09-08T23:08:56.806091Z",
          "start_time": "2022-09-08T23:08:56.386039Z"
        },
        "id": "29975330"
      },
      "outputs": [],
      "source": [
        "import pandas as pd\n",
        "import numpy as np\n",
        "from matplotlib import pyplot as plt\n",
        "import scipy\n",
        "import os"
      ]
    },
    {
      "cell_type": "code",
      "execution_count": null,
      "id": "136bcd7e",
      "metadata": {
        "ExecuteTime": {
          "end_time": "2022-09-08T23:12:58.590554Z",
          "start_time": "2022-09-08T23:12:58.522467Z"
        },
        "id": "136bcd7e"
      },
      "outputs": [],
      "source": [
        "os.chdir('/content/ECE_471_MP1_AV_Analysis')\n",
        "clear_night_ctl = pd.read_csv('campaign_results/route_highway_epoch24_clear-night_fi_ghost_cutin/routes_fi_route_highway-0911_024337-data_fi_ghost_cutin-single_ctl.csv')\n",
        "clear_night_cvip = pd.read_csv('campaign_results/route_highway_epoch24_clear-night_fi_ghost_cutin/routes_fi_route_highway-0911_024337-data_fi_ghost_cutin-single_cvip.csv')\n",
        "clear_night_traj = pd.read_csv('campaign_results/route_highway_epoch24_clear-night_fi_ghost_cutin/routes_fi_route_highway-0911_024337-data_fi_ghost_cutin-single_traj.csv')\n",
        "\n",
        "clear_sunset_ctl = pd.read_csv('campaign_results/route_highway_epoch24_clear-sunset_fi_ghost_cutin/routes_fi_route_highway-0911_023451-data_fi_ghost_cutin-single_ctl.csv')\n",
        "clear_sunset_cvip = pd.read_csv('campaign_results/route_highway_epoch24_clear-sunset_fi_ghost_cutin/routes_fi_route_highway-0911_023451-data_fi_ghost_cutin-single_cvip.csv')\n",
        "clear_sunset_traj = pd.read_csv('campaign_results/route_highway_epoch24_clear-sunset_fi_ghost_cutin/routes_fi_route_highway-0911_023451-data_fi_ghost_cutin-single_traj.csv')\n",
        "\n",
        "clear_noon_ctl = pd.read_csv('campaign_results/route_highway_epoch24_clear-noon_fi_ghost_cutin/routes_fi_route_highway-0911_023016-data_fi_ghost_cutin-single_ctl.csv')\n",
        "clear_noon_cvip = pd.read_csv('campaign_results/route_highway_epoch24_clear-noon_fi_ghost_cutin/routes_fi_route_highway-0911_023016-data_fi_ghost_cutin-single_cvip.csv')\n",
        "clear_noon_traj = pd.read_csv('campaign_results/route_highway_epoch24_clear-noon_fi_ghost_cutin/routes_fi_route_highway-0911_023016-data_fi_ghost_cutin-single_traj.csv')\n",
        "\n",
        "rain_noon_ctl = pd.read_csv('campaign_results/route_highway_epoch24_rain-noon_fi_ghost_cutin/routes_fi_route_highway-0911_023309-data_fi_ghost_cutin-single_ctl.csv')\n",
        "rain_noon_cvip = pd.read_csv('campaign_results/route_highway_epoch24_rain-noon_fi_ghost_cutin/routes_fi_route_highway-0911_023309-data_fi_ghost_cutin-single_cvip.csv')\n",
        "rain_noon_traj = pd.read_csv('campaign_results/route_highway_epoch24_rain-noon_fi_ghost_cutin/routes_fi_route_highway-0911_023309-data_fi_ghost_cutin-single_traj.csv')"
      ]
    },
    {
      "cell_type": "markdown",
      "source": [
        "# Task 1\n",
        "## Task 1.1 List the first 5 rows of the csv firles for the clear-night weather condition"
      ],
      "metadata": {
        "id": "cqkIpwZmN66Y"
      },
      "id": "cqkIpwZmN66Y"
    },
    {
      "cell_type": "code",
      "execution_count": null,
      "id": "0a7b71c1",
      "metadata": {
        "ExecuteTime": {
          "end_time": "2022-09-08T23:14:31.040876Z",
          "start_time": "2022-09-08T23:14:31.032513Z"
        },
        "id": "0a7b71c1",
        "outputId": "b5266058-935e-41a0-c288-32d2c9073d7a",
        "colab": {
          "base_uri": "https://localhost:8080/",
          "height": 206
        }
      },
      "outputs": [
        {
          "output_type": "execute_result",
          "data": {
            "text/plain": [
              "         ts  agent_id  throttle     steer  brake\n",
              "0  15547837         0       0.9 -0.001013    0.0\n",
              "1  15547838         0       0.9 -0.010019    0.0\n",
              "2  15547839         0       0.9 -0.006061    0.0\n",
              "3  15547840         0       0.9 -0.007578    0.0\n",
              "4  15547841         0       0.9 -0.001617    0.0"
            ],
            "text/html": [
              "\n",
              "  <div id=\"df-24fff813-2a33-4cb8-af74-97b87b5dd06d\">\n",
              "    <div class=\"colab-df-container\">\n",
              "      <div>\n",
              "<style scoped>\n",
              "    .dataframe tbody tr th:only-of-type {\n",
              "        vertical-align: middle;\n",
              "    }\n",
              "\n",
              "    .dataframe tbody tr th {\n",
              "        vertical-align: top;\n",
              "    }\n",
              "\n",
              "    .dataframe thead th {\n",
              "        text-align: right;\n",
              "    }\n",
              "</style>\n",
              "<table border=\"1\" class=\"dataframe\">\n",
              "  <thead>\n",
              "    <tr style=\"text-align: right;\">\n",
              "      <th></th>\n",
              "      <th>ts</th>\n",
              "      <th>agent_id</th>\n",
              "      <th>throttle</th>\n",
              "      <th>steer</th>\n",
              "      <th>brake</th>\n",
              "    </tr>\n",
              "  </thead>\n",
              "  <tbody>\n",
              "    <tr>\n",
              "      <th>0</th>\n",
              "      <td>15547837</td>\n",
              "      <td>0</td>\n",
              "      <td>0.9</td>\n",
              "      <td>-0.001013</td>\n",
              "      <td>0.0</td>\n",
              "    </tr>\n",
              "    <tr>\n",
              "      <th>1</th>\n",
              "      <td>15547838</td>\n",
              "      <td>0</td>\n",
              "      <td>0.9</td>\n",
              "      <td>-0.010019</td>\n",
              "      <td>0.0</td>\n",
              "    </tr>\n",
              "    <tr>\n",
              "      <th>2</th>\n",
              "      <td>15547839</td>\n",
              "      <td>0</td>\n",
              "      <td>0.9</td>\n",
              "      <td>-0.006061</td>\n",
              "      <td>0.0</td>\n",
              "    </tr>\n",
              "    <tr>\n",
              "      <th>3</th>\n",
              "      <td>15547840</td>\n",
              "      <td>0</td>\n",
              "      <td>0.9</td>\n",
              "      <td>-0.007578</td>\n",
              "      <td>0.0</td>\n",
              "    </tr>\n",
              "    <tr>\n",
              "      <th>4</th>\n",
              "      <td>15547841</td>\n",
              "      <td>0</td>\n",
              "      <td>0.9</td>\n",
              "      <td>-0.001617</td>\n",
              "      <td>0.0</td>\n",
              "    </tr>\n",
              "  </tbody>\n",
              "</table>\n",
              "</div>\n",
              "      <button class=\"colab-df-convert\" onclick=\"convertToInteractive('df-24fff813-2a33-4cb8-af74-97b87b5dd06d')\"\n",
              "              title=\"Convert this dataframe to an interactive table.\"\n",
              "              style=\"display:none;\">\n",
              "        \n",
              "  <svg xmlns=\"http://www.w3.org/2000/svg\" height=\"24px\"viewBox=\"0 0 24 24\"\n",
              "       width=\"24px\">\n",
              "    <path d=\"M0 0h24v24H0V0z\" fill=\"none\"/>\n",
              "    <path d=\"M18.56 5.44l.94 2.06.94-2.06 2.06-.94-2.06-.94-.94-2.06-.94 2.06-2.06.94zm-11 1L8.5 8.5l.94-2.06 2.06-.94-2.06-.94L8.5 2.5l-.94 2.06-2.06.94zm10 10l.94 2.06.94-2.06 2.06-.94-2.06-.94-.94-2.06-.94 2.06-2.06.94z\"/><path d=\"M17.41 7.96l-1.37-1.37c-.4-.4-.92-.59-1.43-.59-.52 0-1.04.2-1.43.59L10.3 9.45l-7.72 7.72c-.78.78-.78 2.05 0 2.83L4 21.41c.39.39.9.59 1.41.59.51 0 1.02-.2 1.41-.59l7.78-7.78 2.81-2.81c.8-.78.8-2.07 0-2.86zM5.41 20L4 18.59l7.72-7.72 1.47 1.35L5.41 20z\"/>\n",
              "  </svg>\n",
              "      </button>\n",
              "      \n",
              "  <style>\n",
              "    .colab-df-container {\n",
              "      display:flex;\n",
              "      flex-wrap:wrap;\n",
              "      gap: 12px;\n",
              "    }\n",
              "\n",
              "    .colab-df-convert {\n",
              "      background-color: #E8F0FE;\n",
              "      border: none;\n",
              "      border-radius: 50%;\n",
              "      cursor: pointer;\n",
              "      display: none;\n",
              "      fill: #1967D2;\n",
              "      height: 32px;\n",
              "      padding: 0 0 0 0;\n",
              "      width: 32px;\n",
              "    }\n",
              "\n",
              "    .colab-df-convert:hover {\n",
              "      background-color: #E2EBFA;\n",
              "      box-shadow: 0px 1px 2px rgba(60, 64, 67, 0.3), 0px 1px 3px 1px rgba(60, 64, 67, 0.15);\n",
              "      fill: #174EA6;\n",
              "    }\n",
              "\n",
              "    [theme=dark] .colab-df-convert {\n",
              "      background-color: #3B4455;\n",
              "      fill: #D2E3FC;\n",
              "    }\n",
              "\n",
              "    [theme=dark] .colab-df-convert:hover {\n",
              "      background-color: #434B5C;\n",
              "      box-shadow: 0px 1px 3px 1px rgba(0, 0, 0, 0.15);\n",
              "      filter: drop-shadow(0px 1px 2px rgba(0, 0, 0, 0.3));\n",
              "      fill: #FFFFFF;\n",
              "    }\n",
              "  </style>\n",
              "\n",
              "      <script>\n",
              "        const buttonEl =\n",
              "          document.querySelector('#df-24fff813-2a33-4cb8-af74-97b87b5dd06d button.colab-df-convert');\n",
              "        buttonEl.style.display =\n",
              "          google.colab.kernel.accessAllowed ? 'block' : 'none';\n",
              "\n",
              "        async function convertToInteractive(key) {\n",
              "          const element = document.querySelector('#df-24fff813-2a33-4cb8-af74-97b87b5dd06d');\n",
              "          const dataTable =\n",
              "            await google.colab.kernel.invokeFunction('convertToInteractive',\n",
              "                                                     [key], {});\n",
              "          if (!dataTable) return;\n",
              "\n",
              "          const docLinkHtml = 'Like what you see? Visit the ' +\n",
              "            '<a target=\"_blank\" href=https://colab.research.google.com/notebooks/data_table.ipynb>data table notebook</a>'\n",
              "            + ' to learn more about interactive tables.';\n",
              "          element.innerHTML = '';\n",
              "          dataTable['output_type'] = 'display_data';\n",
              "          await google.colab.output.renderOutput(dataTable, element);\n",
              "          const docLink = document.createElement('div');\n",
              "          docLink.innerHTML = docLinkHtml;\n",
              "          element.appendChild(docLink);\n",
              "        }\n",
              "      </script>\n",
              "    </div>\n",
              "  </div>\n",
              "  "
            ]
          },
          "metadata": {},
          "execution_count": 50
        }
      ],
      "source": [
        "clear_night_ctl.head()"
      ]
    },
    {
      "cell_type": "code",
      "execution_count": null,
      "id": "f1fd98a1",
      "metadata": {
        "ExecuteTime": {
          "end_time": "2022-09-08T23:14:31.656254Z",
          "start_time": "2022-09-08T23:14:31.647957Z"
        },
        "id": "f1fd98a1",
        "outputId": "4d294b13-9bee-4217-b19f-c8154e944b32",
        "colab": {
          "base_uri": "https://localhost:8080/",
          "height": 206
        }
      },
      "outputs": [
        {
          "output_type": "execute_result",
          "data": {
            "text/plain": [
              "         ts  agent_id        cvip      cvip_x     cvip_y      cvip_z\n",
              "0  15547837         0  500.491189  198.767441 -95.832657 -499.819366\n",
              "1  15547838         0    5.595580  195.567444 -90.832657    0.100000\n",
              "2  15547839         0    5.592365  195.567444 -90.832657    0.095407\n",
              "3  15547840         0    5.589578  195.567444 -90.832657    0.084691\n",
              "4  15547841         0    5.587154  195.567444 -90.832657    0.069311"
            ],
            "text/html": [
              "\n",
              "  <div id=\"df-7e476ba8-130f-48b2-a2f7-d100d121d23d\">\n",
              "    <div class=\"colab-df-container\">\n",
              "      <div>\n",
              "<style scoped>\n",
              "    .dataframe tbody tr th:only-of-type {\n",
              "        vertical-align: middle;\n",
              "    }\n",
              "\n",
              "    .dataframe tbody tr th {\n",
              "        vertical-align: top;\n",
              "    }\n",
              "\n",
              "    .dataframe thead th {\n",
              "        text-align: right;\n",
              "    }\n",
              "</style>\n",
              "<table border=\"1\" class=\"dataframe\">\n",
              "  <thead>\n",
              "    <tr style=\"text-align: right;\">\n",
              "      <th></th>\n",
              "      <th>ts</th>\n",
              "      <th>agent_id</th>\n",
              "      <th>cvip</th>\n",
              "      <th>cvip_x</th>\n",
              "      <th>cvip_y</th>\n",
              "      <th>cvip_z</th>\n",
              "    </tr>\n",
              "  </thead>\n",
              "  <tbody>\n",
              "    <tr>\n",
              "      <th>0</th>\n",
              "      <td>15547837</td>\n",
              "      <td>0</td>\n",
              "      <td>500.491189</td>\n",
              "      <td>198.767441</td>\n",
              "      <td>-95.832657</td>\n",
              "      <td>-499.819366</td>\n",
              "    </tr>\n",
              "    <tr>\n",
              "      <th>1</th>\n",
              "      <td>15547838</td>\n",
              "      <td>0</td>\n",
              "      <td>5.595580</td>\n",
              "      <td>195.567444</td>\n",
              "      <td>-90.832657</td>\n",
              "      <td>0.100000</td>\n",
              "    </tr>\n",
              "    <tr>\n",
              "      <th>2</th>\n",
              "      <td>15547839</td>\n",
              "      <td>0</td>\n",
              "      <td>5.592365</td>\n",
              "      <td>195.567444</td>\n",
              "      <td>-90.832657</td>\n",
              "      <td>0.095407</td>\n",
              "    </tr>\n",
              "    <tr>\n",
              "      <th>3</th>\n",
              "      <td>15547840</td>\n",
              "      <td>0</td>\n",
              "      <td>5.589578</td>\n",
              "      <td>195.567444</td>\n",
              "      <td>-90.832657</td>\n",
              "      <td>0.084691</td>\n",
              "    </tr>\n",
              "    <tr>\n",
              "      <th>4</th>\n",
              "      <td>15547841</td>\n",
              "      <td>0</td>\n",
              "      <td>5.587154</td>\n",
              "      <td>195.567444</td>\n",
              "      <td>-90.832657</td>\n",
              "      <td>0.069311</td>\n",
              "    </tr>\n",
              "  </tbody>\n",
              "</table>\n",
              "</div>\n",
              "      <button class=\"colab-df-convert\" onclick=\"convertToInteractive('df-7e476ba8-130f-48b2-a2f7-d100d121d23d')\"\n",
              "              title=\"Convert this dataframe to an interactive table.\"\n",
              "              style=\"display:none;\">\n",
              "        \n",
              "  <svg xmlns=\"http://www.w3.org/2000/svg\" height=\"24px\"viewBox=\"0 0 24 24\"\n",
              "       width=\"24px\">\n",
              "    <path d=\"M0 0h24v24H0V0z\" fill=\"none\"/>\n",
              "    <path d=\"M18.56 5.44l.94 2.06.94-2.06 2.06-.94-2.06-.94-.94-2.06-.94 2.06-2.06.94zm-11 1L8.5 8.5l.94-2.06 2.06-.94-2.06-.94L8.5 2.5l-.94 2.06-2.06.94zm10 10l.94 2.06.94-2.06 2.06-.94-2.06-.94-.94-2.06-.94 2.06-2.06.94z\"/><path d=\"M17.41 7.96l-1.37-1.37c-.4-.4-.92-.59-1.43-.59-.52 0-1.04.2-1.43.59L10.3 9.45l-7.72 7.72c-.78.78-.78 2.05 0 2.83L4 21.41c.39.39.9.59 1.41.59.51 0 1.02-.2 1.41-.59l7.78-7.78 2.81-2.81c.8-.78.8-2.07 0-2.86zM5.41 20L4 18.59l7.72-7.72 1.47 1.35L5.41 20z\"/>\n",
              "  </svg>\n",
              "      </button>\n",
              "      \n",
              "  <style>\n",
              "    .colab-df-container {\n",
              "      display:flex;\n",
              "      flex-wrap:wrap;\n",
              "      gap: 12px;\n",
              "    }\n",
              "\n",
              "    .colab-df-convert {\n",
              "      background-color: #E8F0FE;\n",
              "      border: none;\n",
              "      border-radius: 50%;\n",
              "      cursor: pointer;\n",
              "      display: none;\n",
              "      fill: #1967D2;\n",
              "      height: 32px;\n",
              "      padding: 0 0 0 0;\n",
              "      width: 32px;\n",
              "    }\n",
              "\n",
              "    .colab-df-convert:hover {\n",
              "      background-color: #E2EBFA;\n",
              "      box-shadow: 0px 1px 2px rgba(60, 64, 67, 0.3), 0px 1px 3px 1px rgba(60, 64, 67, 0.15);\n",
              "      fill: #174EA6;\n",
              "    }\n",
              "\n",
              "    [theme=dark] .colab-df-convert {\n",
              "      background-color: #3B4455;\n",
              "      fill: #D2E3FC;\n",
              "    }\n",
              "\n",
              "    [theme=dark] .colab-df-convert:hover {\n",
              "      background-color: #434B5C;\n",
              "      box-shadow: 0px 1px 3px 1px rgba(0, 0, 0, 0.15);\n",
              "      filter: drop-shadow(0px 1px 2px rgba(0, 0, 0, 0.3));\n",
              "      fill: #FFFFFF;\n",
              "    }\n",
              "  </style>\n",
              "\n",
              "      <script>\n",
              "        const buttonEl =\n",
              "          document.querySelector('#df-7e476ba8-130f-48b2-a2f7-d100d121d23d button.colab-df-convert');\n",
              "        buttonEl.style.display =\n",
              "          google.colab.kernel.accessAllowed ? 'block' : 'none';\n",
              "\n",
              "        async function convertToInteractive(key) {\n",
              "          const element = document.querySelector('#df-7e476ba8-130f-48b2-a2f7-d100d121d23d');\n",
              "          const dataTable =\n",
              "            await google.colab.kernel.invokeFunction('convertToInteractive',\n",
              "                                                     [key], {});\n",
              "          if (!dataTable) return;\n",
              "\n",
              "          const docLinkHtml = 'Like what you see? Visit the ' +\n",
              "            '<a target=\"_blank\" href=https://colab.research.google.com/notebooks/data_table.ipynb>data table notebook</a>'\n",
              "            + ' to learn more about interactive tables.';\n",
              "          element.innerHTML = '';\n",
              "          dataTable['output_type'] = 'display_data';\n",
              "          await google.colab.output.renderOutput(dataTable, element);\n",
              "          const docLink = document.createElement('div');\n",
              "          docLink.innerHTML = docLinkHtml;\n",
              "          element.appendChild(docLink);\n",
              "        }\n",
              "      </script>\n",
              "    </div>\n",
              "  </div>\n",
              "  "
            ]
          },
          "metadata": {},
          "execution_count": 51
        }
      ],
      "source": [
        "clear_night_cvip.head()"
      ]
    },
    {
      "cell_type": "code",
      "execution_count": null,
      "id": "7bf9aef3",
      "metadata": {
        "ExecuteTime": {
          "end_time": "2022-09-08T23:14:34.056756Z",
          "start_time": "2022-09-08T23:14:34.048165Z"
        },
        "id": "7bf9aef3",
        "outputId": "f9622eaf-78d8-44d0-f504-986fbd13684f",
        "colab": {
          "base_uri": "https://localhost:8080/",
          "height": 206
        }
      },
      "outputs": [
        {
          "output_type": "execute_result",
          "data": {
            "text/plain": [
              "         ts  agent_id           x         y         z    v\n",
              "0  15547837         0  192.362411 -86.26268  0.539326  0.0\n",
              "1  15547838         0  192.362411 -86.26268  0.491906  0.0\n",
              "2  15547839         0  192.362411 -86.26268  0.438374  0.0\n",
              "3  15547840         0  192.362411 -86.26268  0.378732  0.0\n",
              "4  15547841         0  192.362411 -86.26268  0.312981  0.0"
            ],
            "text/html": [
              "\n",
              "  <div id=\"df-1ca0e1b6-b817-4b3e-8fd0-9f76472ee2a4\">\n",
              "    <div class=\"colab-df-container\">\n",
              "      <div>\n",
              "<style scoped>\n",
              "    .dataframe tbody tr th:only-of-type {\n",
              "        vertical-align: middle;\n",
              "    }\n",
              "\n",
              "    .dataframe tbody tr th {\n",
              "        vertical-align: top;\n",
              "    }\n",
              "\n",
              "    .dataframe thead th {\n",
              "        text-align: right;\n",
              "    }\n",
              "</style>\n",
              "<table border=\"1\" class=\"dataframe\">\n",
              "  <thead>\n",
              "    <tr style=\"text-align: right;\">\n",
              "      <th></th>\n",
              "      <th>ts</th>\n",
              "      <th>agent_id</th>\n",
              "      <th>x</th>\n",
              "      <th>y</th>\n",
              "      <th>z</th>\n",
              "      <th>v</th>\n",
              "    </tr>\n",
              "  </thead>\n",
              "  <tbody>\n",
              "    <tr>\n",
              "      <th>0</th>\n",
              "      <td>15547837</td>\n",
              "      <td>0</td>\n",
              "      <td>192.362411</td>\n",
              "      <td>-86.26268</td>\n",
              "      <td>0.539326</td>\n",
              "      <td>0.0</td>\n",
              "    </tr>\n",
              "    <tr>\n",
              "      <th>1</th>\n",
              "      <td>15547838</td>\n",
              "      <td>0</td>\n",
              "      <td>192.362411</td>\n",
              "      <td>-86.26268</td>\n",
              "      <td>0.491906</td>\n",
              "      <td>0.0</td>\n",
              "    </tr>\n",
              "    <tr>\n",
              "      <th>2</th>\n",
              "      <td>15547839</td>\n",
              "      <td>0</td>\n",
              "      <td>192.362411</td>\n",
              "      <td>-86.26268</td>\n",
              "      <td>0.438374</td>\n",
              "      <td>0.0</td>\n",
              "    </tr>\n",
              "    <tr>\n",
              "      <th>3</th>\n",
              "      <td>15547840</td>\n",
              "      <td>0</td>\n",
              "      <td>192.362411</td>\n",
              "      <td>-86.26268</td>\n",
              "      <td>0.378732</td>\n",
              "      <td>0.0</td>\n",
              "    </tr>\n",
              "    <tr>\n",
              "      <th>4</th>\n",
              "      <td>15547841</td>\n",
              "      <td>0</td>\n",
              "      <td>192.362411</td>\n",
              "      <td>-86.26268</td>\n",
              "      <td>0.312981</td>\n",
              "      <td>0.0</td>\n",
              "    </tr>\n",
              "  </tbody>\n",
              "</table>\n",
              "</div>\n",
              "      <button class=\"colab-df-convert\" onclick=\"convertToInteractive('df-1ca0e1b6-b817-4b3e-8fd0-9f76472ee2a4')\"\n",
              "              title=\"Convert this dataframe to an interactive table.\"\n",
              "              style=\"display:none;\">\n",
              "        \n",
              "  <svg xmlns=\"http://www.w3.org/2000/svg\" height=\"24px\"viewBox=\"0 0 24 24\"\n",
              "       width=\"24px\">\n",
              "    <path d=\"M0 0h24v24H0V0z\" fill=\"none\"/>\n",
              "    <path d=\"M18.56 5.44l.94 2.06.94-2.06 2.06-.94-2.06-.94-.94-2.06-.94 2.06-2.06.94zm-11 1L8.5 8.5l.94-2.06 2.06-.94-2.06-.94L8.5 2.5l-.94 2.06-2.06.94zm10 10l.94 2.06.94-2.06 2.06-.94-2.06-.94-.94-2.06-.94 2.06-2.06.94z\"/><path d=\"M17.41 7.96l-1.37-1.37c-.4-.4-.92-.59-1.43-.59-.52 0-1.04.2-1.43.59L10.3 9.45l-7.72 7.72c-.78.78-.78 2.05 0 2.83L4 21.41c.39.39.9.59 1.41.59.51 0 1.02-.2 1.41-.59l7.78-7.78 2.81-2.81c.8-.78.8-2.07 0-2.86zM5.41 20L4 18.59l7.72-7.72 1.47 1.35L5.41 20z\"/>\n",
              "  </svg>\n",
              "      </button>\n",
              "      \n",
              "  <style>\n",
              "    .colab-df-container {\n",
              "      display:flex;\n",
              "      flex-wrap:wrap;\n",
              "      gap: 12px;\n",
              "    }\n",
              "\n",
              "    .colab-df-convert {\n",
              "      background-color: #E8F0FE;\n",
              "      border: none;\n",
              "      border-radius: 50%;\n",
              "      cursor: pointer;\n",
              "      display: none;\n",
              "      fill: #1967D2;\n",
              "      height: 32px;\n",
              "      padding: 0 0 0 0;\n",
              "      width: 32px;\n",
              "    }\n",
              "\n",
              "    .colab-df-convert:hover {\n",
              "      background-color: #E2EBFA;\n",
              "      box-shadow: 0px 1px 2px rgba(60, 64, 67, 0.3), 0px 1px 3px 1px rgba(60, 64, 67, 0.15);\n",
              "      fill: #174EA6;\n",
              "    }\n",
              "\n",
              "    [theme=dark] .colab-df-convert {\n",
              "      background-color: #3B4455;\n",
              "      fill: #D2E3FC;\n",
              "    }\n",
              "\n",
              "    [theme=dark] .colab-df-convert:hover {\n",
              "      background-color: #434B5C;\n",
              "      box-shadow: 0px 1px 3px 1px rgba(0, 0, 0, 0.15);\n",
              "      filter: drop-shadow(0px 1px 2px rgba(0, 0, 0, 0.3));\n",
              "      fill: #FFFFFF;\n",
              "    }\n",
              "  </style>\n",
              "\n",
              "      <script>\n",
              "        const buttonEl =\n",
              "          document.querySelector('#df-1ca0e1b6-b817-4b3e-8fd0-9f76472ee2a4 button.colab-df-convert');\n",
              "        buttonEl.style.display =\n",
              "          google.colab.kernel.accessAllowed ? 'block' : 'none';\n",
              "\n",
              "        async function convertToInteractive(key) {\n",
              "          const element = document.querySelector('#df-1ca0e1b6-b817-4b3e-8fd0-9f76472ee2a4');\n",
              "          const dataTable =\n",
              "            await google.colab.kernel.invokeFunction('convertToInteractive',\n",
              "                                                     [key], {});\n",
              "          if (!dataTable) return;\n",
              "\n",
              "          const docLinkHtml = 'Like what you see? Visit the ' +\n",
              "            '<a target=\"_blank\" href=https://colab.research.google.com/notebooks/data_table.ipynb>data table notebook</a>'\n",
              "            + ' to learn more about interactive tables.';\n",
              "          element.innerHTML = '';\n",
              "          dataTable['output_type'] = 'display_data';\n",
              "          await google.colab.output.renderOutput(dataTable, element);\n",
              "          const docLink = document.createElement('div');\n",
              "          docLink.innerHTML = docLinkHtml;\n",
              "          element.appendChild(docLink);\n",
              "        }\n",
              "      </script>\n",
              "    </div>\n",
              "  </div>\n",
              "  "
            ]
          },
          "metadata": {},
          "execution_count": 52
        }
      ],
      "source": [
        "clear_night_traj.head()"
      ]
    },
    {
      "cell_type": "markdown",
      "id": "c009641e",
      "metadata": {
        "id": "c009641e"
      },
      "source": [
        "## Task 1.2 Summarizing information for each weather condition"
      ]
    },
    {
      "cell_type": "markdown",
      "id": "6c294f61",
      "metadata": {
        "id": "6c294f61"
      },
      "source": [
        "### Durations"
      ]
    },
    {
      "cell_type": "code",
      "execution_count": null,
      "id": "fb141b54",
      "metadata": {
        "id": "fb141b54",
        "outputId": "90cedad8-31b8-47dd-97b4-d4c5c099a516",
        "colab": {
          "base_uri": "https://localhost:8080/",
          "height": 175
        }
      },
      "outputs": [
        {
          "output_type": "execute_result",
          "data": {
            "text/plain": [
              "              Duration\n",
              "Clear night      926.0\n",
              "Clear sunset     757.0\n",
              "Clear noon       751.0\n",
              "Rain noon        404.0"
            ],
            "text/html": [
              "\n",
              "  <div id=\"df-06ebb9f8-f0cd-4562-93c9-0396e8d90b56\">\n",
              "    <div class=\"colab-df-container\">\n",
              "      <div>\n",
              "<style scoped>\n",
              "    .dataframe tbody tr th:only-of-type {\n",
              "        vertical-align: middle;\n",
              "    }\n",
              "\n",
              "    .dataframe tbody tr th {\n",
              "        vertical-align: top;\n",
              "    }\n",
              "\n",
              "    .dataframe thead th {\n",
              "        text-align: right;\n",
              "    }\n",
              "</style>\n",
              "<table border=\"1\" class=\"dataframe\">\n",
              "  <thead>\n",
              "    <tr style=\"text-align: right;\">\n",
              "      <th></th>\n",
              "      <th>Duration</th>\n",
              "    </tr>\n",
              "  </thead>\n",
              "  <tbody>\n",
              "    <tr>\n",
              "      <th>Clear night</th>\n",
              "      <td>926.0</td>\n",
              "    </tr>\n",
              "    <tr>\n",
              "      <th>Clear sunset</th>\n",
              "      <td>757.0</td>\n",
              "    </tr>\n",
              "    <tr>\n",
              "      <th>Clear noon</th>\n",
              "      <td>751.0</td>\n",
              "    </tr>\n",
              "    <tr>\n",
              "      <th>Rain noon</th>\n",
              "      <td>404.0</td>\n",
              "    </tr>\n",
              "  </tbody>\n",
              "</table>\n",
              "</div>\n",
              "      <button class=\"colab-df-convert\" onclick=\"convertToInteractive('df-06ebb9f8-f0cd-4562-93c9-0396e8d90b56')\"\n",
              "              title=\"Convert this dataframe to an interactive table.\"\n",
              "              style=\"display:none;\">\n",
              "        \n",
              "  <svg xmlns=\"http://www.w3.org/2000/svg\" height=\"24px\"viewBox=\"0 0 24 24\"\n",
              "       width=\"24px\">\n",
              "    <path d=\"M0 0h24v24H0V0z\" fill=\"none\"/>\n",
              "    <path d=\"M18.56 5.44l.94 2.06.94-2.06 2.06-.94-2.06-.94-.94-2.06-.94 2.06-2.06.94zm-11 1L8.5 8.5l.94-2.06 2.06-.94-2.06-.94L8.5 2.5l-.94 2.06-2.06.94zm10 10l.94 2.06.94-2.06 2.06-.94-2.06-.94-.94-2.06-.94 2.06-2.06.94z\"/><path d=\"M17.41 7.96l-1.37-1.37c-.4-.4-.92-.59-1.43-.59-.52 0-1.04.2-1.43.59L10.3 9.45l-7.72 7.72c-.78.78-.78 2.05 0 2.83L4 21.41c.39.39.9.59 1.41.59.51 0 1.02-.2 1.41-.59l7.78-7.78 2.81-2.81c.8-.78.8-2.07 0-2.86zM5.41 20L4 18.59l7.72-7.72 1.47 1.35L5.41 20z\"/>\n",
              "  </svg>\n",
              "      </button>\n",
              "      \n",
              "  <style>\n",
              "    .colab-df-container {\n",
              "      display:flex;\n",
              "      flex-wrap:wrap;\n",
              "      gap: 12px;\n",
              "    }\n",
              "\n",
              "    .colab-df-convert {\n",
              "      background-color: #E8F0FE;\n",
              "      border: none;\n",
              "      border-radius: 50%;\n",
              "      cursor: pointer;\n",
              "      display: none;\n",
              "      fill: #1967D2;\n",
              "      height: 32px;\n",
              "      padding: 0 0 0 0;\n",
              "      width: 32px;\n",
              "    }\n",
              "\n",
              "    .colab-df-convert:hover {\n",
              "      background-color: #E2EBFA;\n",
              "      box-shadow: 0px 1px 2px rgba(60, 64, 67, 0.3), 0px 1px 3px 1px rgba(60, 64, 67, 0.15);\n",
              "      fill: #174EA6;\n",
              "    }\n",
              "\n",
              "    [theme=dark] .colab-df-convert {\n",
              "      background-color: #3B4455;\n",
              "      fill: #D2E3FC;\n",
              "    }\n",
              "\n",
              "    [theme=dark] .colab-df-convert:hover {\n",
              "      background-color: #434B5C;\n",
              "      box-shadow: 0px 1px 3px 1px rgba(0, 0, 0, 0.15);\n",
              "      filter: drop-shadow(0px 1px 2px rgba(0, 0, 0, 0.3));\n",
              "      fill: #FFFFFF;\n",
              "    }\n",
              "  </style>\n",
              "\n",
              "      <script>\n",
              "        const buttonEl =\n",
              "          document.querySelector('#df-06ebb9f8-f0cd-4562-93c9-0396e8d90b56 button.colab-df-convert');\n",
              "        buttonEl.style.display =\n",
              "          google.colab.kernel.accessAllowed ? 'block' : 'none';\n",
              "\n",
              "        async function convertToInteractive(key) {\n",
              "          const element = document.querySelector('#df-06ebb9f8-f0cd-4562-93c9-0396e8d90b56');\n",
              "          const dataTable =\n",
              "            await google.colab.kernel.invokeFunction('convertToInteractive',\n",
              "                                                     [key], {});\n",
              "          if (!dataTable) return;\n",
              "\n",
              "          const docLinkHtml = 'Like what you see? Visit the ' +\n",
              "            '<a target=\"_blank\" href=https://colab.research.google.com/notebooks/data_table.ipynb>data table notebook</a>'\n",
              "            + ' to learn more about interactive tables.';\n",
              "          element.innerHTML = '';\n",
              "          dataTable['output_type'] = 'display_data';\n",
              "          await google.colab.output.renderOutput(dataTable, element);\n",
              "          const docLink = document.createElement('div');\n",
              "          docLink.innerHTML = docLinkHtml;\n",
              "          element.appendChild(docLink);\n",
              "        }\n",
              "      </script>\n",
              "    </div>\n",
              "  </div>\n",
              "  "
            ]
          },
          "metadata": {},
          "execution_count": 53
        }
      ],
      "source": [
        "def get_duration(ctl):\n",
        "  times = ctl['ts']\n",
        "  return times.iloc[-1] - times.iloc[0]\n",
        "\n",
        "clear_night_duration = get_duration(clear_night_ctl)\n",
        "clear_sunset_duration = get_duration(clear_sunset_ctl)\n",
        "clear_noon_duration = get_duration(clear_noon_ctl)\n",
        "rain_noon_duration = get_duration(rain_noon_ctl)\n",
        "\n",
        "duration_df = pd.DataFrame()\n",
        "duration_df.loc['Clear night', 'Duration'] = clear_night_duration\n",
        "duration_df.loc['Clear sunset', 'Duration'] = clear_sunset_duration\n",
        "duration_df.loc['Clear noon', 'Duration'] = clear_noon_duration\n",
        "duration_df.loc['Rain noon', 'Duration'] = rain_noon_duration\n",
        "# print('clear-night: %f, clear-sunset: %f, clear-noon: %f, rain-noon: %f' % (clear_night_duration, clear_sunset_duration, clear_noon_duration, rain_noon_duration))\n",
        "duration_df"
      ]
    },
    {
      "cell_type": "markdown",
      "id": "7a0056c8",
      "metadata": {
        "id": "7a0056c8"
      },
      "source": [
        "### Mean and Standard Deviations"
      ]
    },
    {
      "cell_type": "code",
      "execution_count": null,
      "id": "b235d811",
      "metadata": {
        "id": "b235d811",
        "outputId": "7758a736-dd79-49eb-d4fc-868bee499c18",
        "colab": {
          "base_uri": "https://localhost:8080/",
          "height": 269
        }
      },
      "outputs": [
        {
          "output_type": "execute_result",
          "data": {
            "text/plain": [
              "          clear-night mean  clear-night std  clear-sunset mean  \\\n",
              "throttle             0.616            0.341              0.610   \n",
              "steer                0.003            0.066              0.000   \n",
              "brake                0.122            0.327              0.057   \n",
              "cvip                39.506           39.506             20.107   \n",
              "x                  189.727            2.851            192.940   \n",
              "y                  -25.546           40.433            -31.128   \n",
              "v                    5.668            2.588              6.884   \n",
              "\n",
              "          clear-sunset std  clear-noon mean  clear-noon std  rain-noon mean  \\\n",
              "throttle             0.282            0.608           0.283           0.637   \n",
              "steer                0.006            0.001           0.006          -0.001   \n",
              "brake                0.231            0.059           0.235           0.047   \n",
              "cvip                20.107           19.409          19.409           7.095   \n",
              "x                    0.398          192.916           0.403         192.646   \n",
              "y                   40.475          -31.366          40.570         -63.407   \n",
              "v                    3.307            6.936           3.279           6.390   \n",
              "\n",
              "          rain-noon std  \n",
              "throttle          0.275  \n",
              "steer             0.003  \n",
              "brake             0.212  \n",
              "cvip              7.095  \n",
              "x                 0.269  \n",
              "y                21.537  \n",
              "v                 3.882  "
            ],
            "text/html": [
              "\n",
              "  <div id=\"df-98bb7e81-05b4-4c29-82da-96823da2de3e\">\n",
              "    <div class=\"colab-df-container\">\n",
              "      <div>\n",
              "<style scoped>\n",
              "    .dataframe tbody tr th:only-of-type {\n",
              "        vertical-align: middle;\n",
              "    }\n",
              "\n",
              "    .dataframe tbody tr th {\n",
              "        vertical-align: top;\n",
              "    }\n",
              "\n",
              "    .dataframe thead th {\n",
              "        text-align: right;\n",
              "    }\n",
              "</style>\n",
              "<table border=\"1\" class=\"dataframe\">\n",
              "  <thead>\n",
              "    <tr style=\"text-align: right;\">\n",
              "      <th></th>\n",
              "      <th>clear-night mean</th>\n",
              "      <th>clear-night std</th>\n",
              "      <th>clear-sunset mean</th>\n",
              "      <th>clear-sunset std</th>\n",
              "      <th>clear-noon mean</th>\n",
              "      <th>clear-noon std</th>\n",
              "      <th>rain-noon mean</th>\n",
              "      <th>rain-noon std</th>\n",
              "    </tr>\n",
              "  </thead>\n",
              "  <tbody>\n",
              "    <tr>\n",
              "      <th>throttle</th>\n",
              "      <td>0.616</td>\n",
              "      <td>0.341</td>\n",
              "      <td>0.610</td>\n",
              "      <td>0.282</td>\n",
              "      <td>0.608</td>\n",
              "      <td>0.283</td>\n",
              "      <td>0.637</td>\n",
              "      <td>0.275</td>\n",
              "    </tr>\n",
              "    <tr>\n",
              "      <th>steer</th>\n",
              "      <td>0.003</td>\n",
              "      <td>0.066</td>\n",
              "      <td>0.000</td>\n",
              "      <td>0.006</td>\n",
              "      <td>0.001</td>\n",
              "      <td>0.006</td>\n",
              "      <td>-0.001</td>\n",
              "      <td>0.003</td>\n",
              "    </tr>\n",
              "    <tr>\n",
              "      <th>brake</th>\n",
              "      <td>0.122</td>\n",
              "      <td>0.327</td>\n",
              "      <td>0.057</td>\n",
              "      <td>0.231</td>\n",
              "      <td>0.059</td>\n",
              "      <td>0.235</td>\n",
              "      <td>0.047</td>\n",
              "      <td>0.212</td>\n",
              "    </tr>\n",
              "    <tr>\n",
              "      <th>cvip</th>\n",
              "      <td>39.506</td>\n",
              "      <td>39.506</td>\n",
              "      <td>20.107</td>\n",
              "      <td>20.107</td>\n",
              "      <td>19.409</td>\n",
              "      <td>19.409</td>\n",
              "      <td>7.095</td>\n",
              "      <td>7.095</td>\n",
              "    </tr>\n",
              "    <tr>\n",
              "      <th>x</th>\n",
              "      <td>189.727</td>\n",
              "      <td>2.851</td>\n",
              "      <td>192.940</td>\n",
              "      <td>0.398</td>\n",
              "      <td>192.916</td>\n",
              "      <td>0.403</td>\n",
              "      <td>192.646</td>\n",
              "      <td>0.269</td>\n",
              "    </tr>\n",
              "    <tr>\n",
              "      <th>y</th>\n",
              "      <td>-25.546</td>\n",
              "      <td>40.433</td>\n",
              "      <td>-31.128</td>\n",
              "      <td>40.475</td>\n",
              "      <td>-31.366</td>\n",
              "      <td>40.570</td>\n",
              "      <td>-63.407</td>\n",
              "      <td>21.537</td>\n",
              "    </tr>\n",
              "    <tr>\n",
              "      <th>v</th>\n",
              "      <td>5.668</td>\n",
              "      <td>2.588</td>\n",
              "      <td>6.884</td>\n",
              "      <td>3.307</td>\n",
              "      <td>6.936</td>\n",
              "      <td>3.279</td>\n",
              "      <td>6.390</td>\n",
              "      <td>3.882</td>\n",
              "    </tr>\n",
              "  </tbody>\n",
              "</table>\n",
              "</div>\n",
              "      <button class=\"colab-df-convert\" onclick=\"convertToInteractive('df-98bb7e81-05b4-4c29-82da-96823da2de3e')\"\n",
              "              title=\"Convert this dataframe to an interactive table.\"\n",
              "              style=\"display:none;\">\n",
              "        \n",
              "  <svg xmlns=\"http://www.w3.org/2000/svg\" height=\"24px\"viewBox=\"0 0 24 24\"\n",
              "       width=\"24px\">\n",
              "    <path d=\"M0 0h24v24H0V0z\" fill=\"none\"/>\n",
              "    <path d=\"M18.56 5.44l.94 2.06.94-2.06 2.06-.94-2.06-.94-.94-2.06-.94 2.06-2.06.94zm-11 1L8.5 8.5l.94-2.06 2.06-.94-2.06-.94L8.5 2.5l-.94 2.06-2.06.94zm10 10l.94 2.06.94-2.06 2.06-.94-2.06-.94-.94-2.06-.94 2.06-2.06.94z\"/><path d=\"M17.41 7.96l-1.37-1.37c-.4-.4-.92-.59-1.43-.59-.52 0-1.04.2-1.43.59L10.3 9.45l-7.72 7.72c-.78.78-.78 2.05 0 2.83L4 21.41c.39.39.9.59 1.41.59.51 0 1.02-.2 1.41-.59l7.78-7.78 2.81-2.81c.8-.78.8-2.07 0-2.86zM5.41 20L4 18.59l7.72-7.72 1.47 1.35L5.41 20z\"/>\n",
              "  </svg>\n",
              "      </button>\n",
              "      \n",
              "  <style>\n",
              "    .colab-df-container {\n",
              "      display:flex;\n",
              "      flex-wrap:wrap;\n",
              "      gap: 12px;\n",
              "    }\n",
              "\n",
              "    .colab-df-convert {\n",
              "      background-color: #E8F0FE;\n",
              "      border: none;\n",
              "      border-radius: 50%;\n",
              "      cursor: pointer;\n",
              "      display: none;\n",
              "      fill: #1967D2;\n",
              "      height: 32px;\n",
              "      padding: 0 0 0 0;\n",
              "      width: 32px;\n",
              "    }\n",
              "\n",
              "    .colab-df-convert:hover {\n",
              "      background-color: #E2EBFA;\n",
              "      box-shadow: 0px 1px 2px rgba(60, 64, 67, 0.3), 0px 1px 3px 1px rgba(60, 64, 67, 0.15);\n",
              "      fill: #174EA6;\n",
              "    }\n",
              "\n",
              "    [theme=dark] .colab-df-convert {\n",
              "      background-color: #3B4455;\n",
              "      fill: #D2E3FC;\n",
              "    }\n",
              "\n",
              "    [theme=dark] .colab-df-convert:hover {\n",
              "      background-color: #434B5C;\n",
              "      box-shadow: 0px 1px 3px 1px rgba(0, 0, 0, 0.15);\n",
              "      filter: drop-shadow(0px 1px 2px rgba(0, 0, 0, 0.3));\n",
              "      fill: #FFFFFF;\n",
              "    }\n",
              "  </style>\n",
              "\n",
              "      <script>\n",
              "        const buttonEl =\n",
              "          document.querySelector('#df-98bb7e81-05b4-4c29-82da-96823da2de3e button.colab-df-convert');\n",
              "        buttonEl.style.display =\n",
              "          google.colab.kernel.accessAllowed ? 'block' : 'none';\n",
              "\n",
              "        async function convertToInteractive(key) {\n",
              "          const element = document.querySelector('#df-98bb7e81-05b4-4c29-82da-96823da2de3e');\n",
              "          const dataTable =\n",
              "            await google.colab.kernel.invokeFunction('convertToInteractive',\n",
              "                                                     [key], {});\n",
              "          if (!dataTable) return;\n",
              "\n",
              "          const docLinkHtml = 'Like what you see? Visit the ' +\n",
              "            '<a target=\"_blank\" href=https://colab.research.google.com/notebooks/data_table.ipynb>data table notebook</a>'\n",
              "            + ' to learn more about interactive tables.';\n",
              "          element.innerHTML = '';\n",
              "          dataTable['output_type'] = 'display_data';\n",
              "          await google.colab.output.renderOutput(dataTable, element);\n",
              "          const docLink = document.createElement('div');\n",
              "          docLink.innerHTML = docLinkHtml;\n",
              "          element.appendChild(docLink);\n",
              "        }\n",
              "      </script>\n",
              "    </div>\n",
              "  </div>\n",
              "  "
            ]
          },
          "metadata": {},
          "execution_count": 54
        }
      ],
      "source": [
        "summary_df = pd.DataFrame()\n",
        "\n",
        "# Helper function to get the information for each condition's dataframe\n",
        "def add_summary(ctl, cvip, traj, df_name):\n",
        "\n",
        "  # Getting values from ctl dataframe\n",
        "  ctl_means = ctl.mean(axis=0)\n",
        "  ctl_stds = ctl.std(axis=0)\n",
        "  summary_df.loc['throttle', df_name + ' mean'] = ctl_means['throttle']\n",
        "  summary_df.loc['throttle', df_name + ' std'] = ctl_stds['throttle']\n",
        "  summary_df.loc['steer', df_name + ' mean'] = ctl_means['steer']\n",
        "  summary_df.loc['steer', df_name + ' std'] = ctl_stds['steer']\n",
        "  summary_df.loc['brake', df_name + ' mean'] = ctl_means['brake']\n",
        "  summary_df.loc['brake', df_name + ' std'] = ctl_stds['brake']\n",
        "\n",
        "  # Getting values from cvip dataframe\n",
        "  summary_df.loc['cvip', df_name + ' mean'] = cvip.mean()['cvip']\n",
        "  summary_df.loc['cvip', df_name + ' std'] = cvip.mean()['cvip']\n",
        "\n",
        "  # Getting values from traj dataframe\n",
        "  traj_means = traj.mean(axis=0)\n",
        "  traj_stds = traj.std(axis=0)\n",
        "  summary_df.loc['x', df_name + ' mean'] = traj_means['x']\n",
        "  summary_df.loc['x', df_name + ' std'] = traj_stds['x']\n",
        "  summary_df.loc['y', df_name + ' mean'] = traj_means['y']\n",
        "  summary_df.loc['y', df_name + ' std'] = traj_stds['y']\n",
        "  summary_df.loc['v', df_name + ' mean'] = traj_means['v']\n",
        "  summary_df.loc['v', df_name + ' std'] = traj_stds['v']\n",
        "\n",
        "add_summary(clear_night_ctl, clear_night_cvip, clear_night_traj, 'clear-night')\n",
        "add_summary(clear_sunset_ctl, clear_sunset_cvip, clear_sunset_traj, 'clear-sunset')\n",
        "add_summary(clear_noon_ctl, clear_noon_cvip, clear_noon_traj, 'clear-noon')\n",
        "add_summary(rain_noon_ctl, rain_noon_cvip, rain_noon_traj, 'rain-noon')\n",
        "\n",
        "summary_df = summary_df.round(3)\n",
        "summary_df\n"
      ]
    },
    {
      "cell_type": "markdown",
      "id": "72f882e7",
      "metadata": {
        "id": "72f882e7"
      },
      "source": [
        "## Task 1.3 Visualize campaign results"
      ]
    },
    {
      "cell_type": "code",
      "execution_count": null,
      "id": "f423810f",
      "metadata": {
        "id": "f423810f"
      },
      "outputs": [],
      "source": [
        "import seaborn as sns\n",
        "sns.set_theme()\n",
        "\n",
        "def plot_feature(feature, ctl=False, cvip=False, traj=False, histogram=False, scatter=False):\n",
        "\n",
        "  # Getting y feature and ts values from the dataframes\n",
        "  clear_night_ts = clear_night_ctl['ts']\n",
        "  clear_sunset_ts = clear_sunset_ctl['ts']\n",
        "  clear_noon_ts = clear_noon_ctl['ts']\n",
        "  rain_noon_ts = rain_noon_ctl['ts']\n",
        "\n",
        "  if ctl:\n",
        "    clear_night_y = clear_night_ctl[feature]\n",
        "    clear_sunset_y = clear_sunset_ctl[feature]\n",
        "    clear_noon_y = clear_noon_ctl[feature]\n",
        "    rain_noon_y = rain_noon_ctl[feature]\n",
        "\n",
        "  elif cvip:\n",
        "\n",
        "    clear_night_y = clear_night_cvip[feature]\n",
        "    clear_sunset_y = clear_sunset_cvip[feature]\n",
        "    clear_noon_y = clear_noon_cvip[feature]\n",
        "    rain_noon_y = rain_noon_cvip[feature]\n",
        "  \n",
        "  else:\n",
        "\n",
        "    clear_night_y = clear_night_traj[feature]\n",
        "    clear_sunset_y = clear_sunset_traj[feature]\n",
        "    clear_noon_y = clear_noon_traj[feature]\n",
        "    rain_noon_y = rain_noon_traj[feature]\n",
        "\n",
        "\n",
        "  # Setting the timestamp data to start at 0\n",
        "  clear_night_ts = clear_night_ts - clear_night_ts[0]\n",
        "  clear_sunset_ts = clear_sunset_ts - clear_sunset_ts[0]\n",
        "  clear_noon_ts = clear_noon_ts - clear_noon_ts[0]\n",
        "  rain_noon_ts = rain_noon_ts - rain_noon_ts[0]\n",
        "\n",
        "  if histogram:\n",
        "\n",
        "    plt.hist(clear_night_ts, clear_night_y)\n",
        "    plt.hist(clear_sunset_ts, clear_sunset_y)\n",
        "    plt.hist(clear_noon_ts, clear_noon_y)\n",
        "    plt.hist(rain_noon_ts, rain_noon_y)\n",
        "\n",
        "  elif scatter:\n",
        "\n",
        "    plt.scatter(clear_night_ts, clear_night_y)\n",
        "    plt.scatter(clear_sunset_ts, clear_sunset_y)\n",
        "    plt.scatter(clear_noon_ts, clear_noon_y)\n",
        "    plt.scatter(rain_noon_ts, rain_noon_y)\n",
        "\n",
        "  else:\n",
        "\n",
        "    plt.plot(clear_night_ts, clear_night_y, label='clear-night')\n",
        "    plt.plot(clear_sunset_ts, clear_sunset_y, label='clear-sunset')\n",
        "    plt.plot(clear_noon_ts, clear_noon_y, label='clear-noon')\n",
        "    plt.plot(rain_noon_ts, rain_noon_y, label='rain-noon')\n",
        "\n",
        "  plt.xlabel('Timestamp')\n",
        "  plt.ylabel(feature)\n",
        "  plt.title(feature + ' of car for various weather conditions')\n",
        "  plt.legend()\n",
        "  plt.show()"
      ]
    },
    {
      "cell_type": "code",
      "execution_count": null,
      "id": "8ba99e71",
      "metadata": {
        "id": "8ba99e71",
        "outputId": "5ab41bc7-304f-46f1-829a-21520cf66e36",
        "colab": {
          "base_uri": "https://localhost:8080/",
          "height": 355
        }
      },
      "outputs": [
        {
          "output_type": "display_data",
          "data": {
            "text/plain": [
              "<Figure size 720x360 with 1 Axes>"
            ],
            "image/png": "[encoded data removed]"
          },
          "metadata": {}
        }
      ],
      "source": [
        "plot_feature('throttle', ctl=True)"
      ]
    },
    {
      "cell_type": "code",
      "execution_count": null,
      "id": "dcfc1a92",
      "metadata": {
        "id": "dcfc1a92",
        "outputId": "ebd7f1fa-9668-4c95-b102-eac9a58af06a",
        "colab": {
          "base_uri": "https://localhost:8080/",
          "height": 355
        }
      },
      "outputs": [
        {
          "output_type": "display_data",
          "data": {
            "text/plain": [
              "<Figure size 720x360 with 1 Axes>"
            ],
            "image/png": "[encoded data removed]"
          },
          "metadata": {}
        }
      ],
      "source": [
        "plot_feature('steer', ctl=True)"
      ]
    },
    {
      "cell_type": "code",
      "execution_count": null,
      "id": "2ff48361",
      "metadata": {
        "id": "2ff48361",
        "outputId": "b52590bd-276d-4175-a420-5b0b2ab960f4",
        "colab": {
          "base_uri": "https://localhost:8080/",
          "height": 355
        }
      },
      "outputs": [
        {
          "output_type": "display_data",
          "data": {
            "text/plain": [
              "<Figure size 720x360 with 1 Axes>"
            ],
            "image/png": "[encoded data removed]"
          },
          "metadata": {}
        }
      ],
      "source": [
        "plot_feature('brake', ctl=True)"
      ]
    },
    {
      "cell_type": "code",
      "execution_count": null,
      "id": "21a9be14",
      "metadata": {
        "id": "21a9be14",
        "outputId": "7457abca-491f-4be2-9980-c8ddbd58d78c",
        "colab": {
          "base_uri": "https://localhost:8080/",
          "height": 355
        }
      },
      "outputs": [
        {
          "output_type": "display_data",
          "data": {
            "text/plain": [
              "<Figure size 720x360 with 1 Axes>"
            ],
            "image/png": "[encoded data removed]"
          },
          "metadata": {}
        }
      ],
      "source": [
        "plot_feature('cvip', cvip=True)"
      ]
    },
    {
      "cell_type": "code",
      "execution_count": null,
      "id": "5e4c476d",
      "metadata": {
        "id": "5e4c476d",
        "outputId": "726c8f58-0af1-4200-d7c6-959f50cf04db",
        "colab": {
          "base_uri": "https://localhost:8080/",
          "height": 355
        }
      },
      "outputs": [
        {
          "output_type": "display_data",
          "data": {
            "text/plain": [
              "<Figure size 720x360 with 1 Axes>"
            ],
            "image/png": "[encoded data removed]"
          },
          "metadata": {}
        }
      ],
      "source": [
        "plot_feature('x', traj=True)"
      ]
    },
    {
      "cell_type": "code",
      "execution_count": null,
      "id": "cfe47bbf",
      "metadata": {
        "id": "cfe47bbf",
        "outputId": "d02b1bed-5e84-4818-c6a7-4f6d873ae234",
        "colab": {
          "base_uri": "https://localhost:8080/",
          "height": 355
        }
      },
      "outputs": [
        {
          "output_type": "display_data",
          "data": {
            "text/plain": [
              "<Figure size 720x360 with 1 Axes>"
            ],
            "image/png": "[encoded data removed]"
          },
          "metadata": {}
        }
      ],
      "source": [
        "plot_feature('y', traj=True)"
      ]
    },
    {
      "cell_type": "code",
      "execution_count": null,
      "id": "a3c73e01",
      "metadata": {
        "id": "a3c73e01",
        "outputId": "16fbc35d-57a7-4597-cb99-821436d9881a",
        "colab": {
          "base_uri": "https://localhost:8080/",
          "height": 355
        }
      },
      "outputs": [
        {
          "output_type": "display_data",
          "data": {
            "text/plain": [
              "<Figure size 720x360 with 1 Axes>"
            ],
            "image/png": "[encoded data removed]"
          },
          "metadata": {}
        }
      ],
      "source": [
        "plot_feature('v', traj=True)"
      ]
    },
    {
      "cell_type": "markdown",
      "id": "9d59227d",
      "metadata": {
        "id": "9d59227d"
      },
      "source": [
        "## Task 1.4. Which features will change during an accident?"
      ]
    },
    {
      "cell_type": "markdown",
      "id": "c24f4486",
      "metadata": {
        "id": "c24f4486"
      },
      "source": [
        "Based on my intuition, when an accident occurs there is initially a sudden push on the breaks and a sharp decrease in speed as the driver makes an attempt to not have a collision. There could also be erratic movement of the steering wheel from side to side as the car tries to avade the accident.\n",
        "\n",
        "From the visualization of the data it seems that an accident occurs during the rain-noon weather condition as there are two sudden pressings of the break and a decrease in speed. One of the brake pressing takes much more time than those in clear sunset or clear noon. The data also stops before the other weather conditions such that the car was in an accident and stopped collecting data.\n",
        "\n",
        "It also looks like an accident, or a near miss occurs in the clear-night weather conditon do to the erratic steering data. It seems as if the AV started swerving back and forth to avoid an accident."
      ]
    },
    {
      "cell_type": "markdown",
      "id": "6667e795",
      "metadata": {
        "id": "6667e795"
      },
      "source": [
        "# Task 2\n",
        "## Task 2.1 Probability of an accident"
      ]
    },
    {
      "cell_type": "markdown",
      "id": "f7be8d4b",
      "metadata": {
        "id": "f7be8d4b"
      },
      "source": [
        "From the 5 simulated scenarios only 1 resulted in an accident. Therefore the marginal probability of an accident ocurring is 0.2."
      ]
    },
    {
      "cell_type": "markdown",
      "id": "19f0c2ae",
      "metadata": {
        "id": "19f0c2ae"
      },
      "source": [
        "## Task 2.2 Weather condition for accidents\n",
        "\n",
        "From the completion records the accident happened during the rain-noon weather condition. This was what we predicted from the simulation data. It makes sense that the accident occurs during the weather event of rain as it lowers visibility. While we would expect noon to have the most visibility time wise, since it was the only rain simulation in the data it seems the weather has a larger effect than time."
      ]
    },
    {
      "cell_type": "markdown",
      "id": "988234a8",
      "metadata": {
        "id": "988234a8"
      },
      "source": [
        "## Task 2.3 Abnormal AV behavior\n",
        "\n",
        "Density Plot"
      ]
    },
    {
      "cell_type": "code",
      "execution_count": null,
      "id": "7e9a6003",
      "metadata": {
        "id": "7e9a6003"
      },
      "outputs": [],
      "source": [
        "abnormal = 0\n",
        "normal = 0\n",
        "# Helper function for creating the density plot of a certain feature\n",
        "def get_density_plot(feature, ctl=False, cvip=False, traj=False):\n",
        "\n",
        "  if ctl:\n",
        "    clear_night_y = clear_night_ctl[feature]\n",
        "    clear_sunset_y = clear_sunset_ctl[feature]\n",
        "    clear_noon_y = clear_noon_ctl[feature]\n",
        "    rain_noon_y = rain_noon_ctl[feature]\n",
        "  elif cvip:\n",
        "    clear_night_y = clear_night_cvip[feature]\n",
        "    clear_sunset_y = clear_sunset_cvip[feature]\n",
        "    clear_noon_y = clear_noon_cvip[feature]\n",
        "    rain_noon_y = rain_noon_cvip[feature]\n",
        "  else:\n",
        "    clear_night_y = clear_night_traj[feature]\n",
        "    clear_sunset_y = clear_sunset_traj[feature]\n",
        "    clear_noon_y = clear_noon_traj[feature]\n",
        "    rain_noon_y = rain_noon_traj[feature]\n",
        "\n",
        "  abnormal = clear_night_y + rain_noon_y\n",
        "  normal = clear_noon_y + clear_sunset_y\n",
        "\n",
        "  sns.set(rc = {'figure.figsize': (10,5)})\n",
        "  sns.kdeplot(abnormal, label='abnormal', fill=True)\n",
        "  sns.kdeplot(normal, label='normal', fill=True)\n",
        "\n",
        "  plt.xlabel(feature)\n",
        "  plt.ylabel('Density')\n",
        "  plt.title(feature)\n",
        "  plt.legend()\n",
        "\n",
        "  \n",
        "  plt.show()"
      ]
    },
    {
      "cell_type": "code",
      "execution_count": null,
      "id": "1e22f979",
      "metadata": {
        "id": "1e22f979",
        "outputId": "ecfa7a94-0971-402e-f3e0-ae338880ca58",
        "colab": {
          "base_uri": "https://localhost:8080/",
          "height": 355
        }
      },
      "outputs": [
        {
          "output_type": "display_data",
          "data": {
            "text/plain": [
              "<Figure size 720x360 with 1 Axes>"
            ],
            "image/png": "[encoded data removed]"
          },
          "metadata": {}
        }
      ],
      "source": [
        "get_density_plot('steer', ctl=True)"
      ]
    },
    {
      "cell_type": "code",
      "execution_count": null,
      "id": "c96dbb3f",
      "metadata": {
        "id": "c96dbb3f",
        "outputId": "74ce7a82-ce1d-47d1-f9a1-2bce94480bb1",
        "colab": {
          "base_uri": "https://localhost:8080/",
          "height": 355
        }
      },
      "outputs": [
        {
          "output_type": "display_data",
          "data": {
            "text/plain": [
              "<Figure size 720x360 with 1 Axes>"
            ],
            "image/png": "[encoded data removed]"
          },
          "metadata": {}
        }
      ],
      "source": [
        "get_density_plot('throttle', ctl=True)"
      ]
    },
    {
      "cell_type": "code",
      "execution_count": null,
      "id": "82af465e",
      "metadata": {
        "id": "82af465e",
        "outputId": "3a8c348e-b8fe-4e15-b236-a54eeb90ad34",
        "colab": {
          "base_uri": "https://localhost:8080/",
          "height": 355
        }
      },
      "outputs": [
        {
          "output_type": "display_data",
          "data": {
            "text/plain": [
              "<Figure size 720x360 with 1 Axes>"
            ],
            "image/png": "[encoded data removed]"
          },
          "metadata": {}
        }
      ],
      "source": [
        "get_density_plot('brake', ctl=True)"
      ]
    },
    {
      "cell_type": "code",
      "execution_count": null,
      "id": "af8cdc95",
      "metadata": {
        "id": "af8cdc95",
        "outputId": "8afe4085-7cf7-42ec-f792-8e657dcb38ff",
        "colab": {
          "base_uri": "https://localhost:8080/",
          "height": 355
        }
      },
      "outputs": [
        {
          "output_type": "display_data",
          "data": {
            "text/plain": [
              "<Figure size 720x360 with 1 Axes>"
            ],
            "image/png": "[encoded data removed]"
          },
          "metadata": {}
        }
      ],
      "source": [
        "get_density_plot('cvip', cvip=True)"
      ]
    },
    {
      "cell_type": "code",
      "execution_count": null,
      "id": "c8f6da4b",
      "metadata": {
        "id": "c8f6da4b",
        "outputId": "2a2ed168-664c-4e22-9c5c-230c7abef7df",
        "colab": {
          "base_uri": "https://localhost:8080/",
          "height": 355
        }
      },
      "outputs": [
        {
          "output_type": "display_data",
          "data": {
            "text/plain": [
              "<Figure size 720x360 with 1 Axes>"
            ],
            "image/png": "[encoded data removed]"
          },
          "metadata": {}
        }
      ],
      "source": [
        "get_density_plot('x', traj=True)"
      ]
    },
    {
      "cell_type": "code",
      "execution_count": null,
      "id": "61da2e78",
      "metadata": {
        "id": "61da2e78",
        "outputId": "9584eea0-f9f6-4d99-da96-c674282527fd",
        "colab": {
          "base_uri": "https://localhost:8080/",
          "height": 355
        }
      },
      "outputs": [
        {
          "output_type": "display_data",
          "data": {
            "text/plain": [
              "<Figure size 720x360 with 1 Axes>"
            ],
            "image/png": "[encoded data removed]"
          },
          "metadata": {}
        }
      ],
      "source": [
        "get_density_plot('y', traj=True)"
      ]
    },
    {
      "cell_type": "code",
      "execution_count": null,
      "id": "77b6b121",
      "metadata": {
        "id": "77b6b121",
        "colab": {
          "base_uri": "https://localhost:8080/",
          "height": 355
        },
        "outputId": "ba8466e6-6d4a-4248-8561-c153f7b5790c"
      },
      "outputs": [
        {
          "output_type": "display_data",
          "data": {
            "text/plain": [
              "<Figure size 720x360 with 1 Axes>"
            ],
            "image/png": "[encoded data removed]"
          },
          "metadata": {}
        }
      ],
      "source": [
        "get_density_plot('v', traj=True)"
      ]
    },
    {
      "cell_type": "markdown",
      "source": [
        "\n",
        "$H_0: \\mu_a = \\mu_n$ \\\\\n",
        "\n",
        "$H_a: \\mu \\neq \\mu_n$ \\\\\n",
        "\n",
        "\n",
        "where $\\sigma_a$ is the standard deviation of steer values in abnormal runs\n",
        "and $\\sigma_n$ is the standard deviation of steer values in normal runs\n"
      ],
      "metadata": {
        "id": "AXIbrtLLxAif"
      },
      "id": "AXIbrtLLxAif"
    },
    {
      "cell_type": "code",
      "execution_count": null,
      "id": "d42292cc",
      "metadata": {
        "id": "d42292cc",
        "colab": {
          "base_uri": "https://localhost:8080/"
        },
        "outputId": "18bdf5a9-4c30-44f8-88ae-422f219e6bdd"
      },
      "outputs": [
        {
          "output_type": "execute_result",
          "data": {
            "text/plain": [
              "Ttest_indResult(statistic=-1.1201087079414076, pvalue=0.26286597683500523)"
            ]
          },
          "metadata": {},
          "execution_count": 71
        }
      ],
      "source": [
        "abnormal = pd.concat([clear_night_ctl.steer, rain_noon_ctl.steer], axis=0)\n",
        "normal = pd.concat([clear_noon_ctl.steer, clear_sunset_ctl.steer], axis=0)\n",
        "scipy.stats.ttest_ind(normal, abnormal, equal_var=False)"
      ]
    },
    {
      "cell_type": "markdown",
      "source": [
        "The t-test gives a p-value of 0.263 which is greater than the significance level of 0.05. Thus we fail to reject the null hypothesis and conclude that the population means for steering under normal and abnormal conditions are equal."
      ],
      "metadata": {
        "id": "cIQfad0V2LZ9"
      },
      "id": "cIQfad0V2LZ9"
    },
    {
      "cell_type": "markdown",
      "source": [
        "The results can be shocking because the two distributions should be different. However, this results does not contradict our observation because while the variances of steering data under normal and abnormal weather conditions differ, for the normal case, the steering data is trends at 0 with little variance. On the other hand, for abnormal conditions, the steering data varies greatly, but is symmetric about 0. Thus we expect the means for both conditions to be roughly equal."
      ],
      "metadata": {
        "id": "kS9EkkxG2ipz"
      },
      "id": "kS9EkkxG2ipz"
    },
    {
      "cell_type": "markdown",
      "source": [
        "## Task 2.4 Features that are indicators for abnormal AV behavior"
      ],
      "metadata": {
        "id": "--qNGsJ34Ctn"
      },
      "id": "--qNGsJ34Ctn"
    },
    {
      "cell_type": "markdown",
      "source": [
        "The following are better features for indicating abnormal AV behaviors:\n",
        "\n",
        "* Steering data for abnormal conditions has much higher variance than that for normal conditions. This larger spread can be indicative of sporatic driving with volatile steering which can lead to accidents. \\\\\n",
        "* cvip data for abnormal conditions has higher probability when the two cars are close, unlike for normal conditiosn. The closer two cars are together, the higher the chance of an accident.\n",
        "* Both x and y have different spreads between when they are under abnormal and normal conditions. Intuitively this does not make sense because the car should not be varying its position drastically on the same road under different weather conditions."
      ],
      "metadata": {
        "id": "kChxPIQG4MqA"
      },
      "id": "kChxPIQG4MqA"
    },
    {
      "cell_type": "code",
      "source": [
        "indicators_df = pd.DataFrame()\n",
        "indicators_df['steer'] = pd.concat([clear_night_ctl.steer, rain_noon_ctl.steer, clear_noon_ctl.steer, clear_sunset_ctl.steer], axis=0)\n",
        "indicators_df['cvip'] = pd.concat([clear_night_cvip.cvip, rain_noon_cvip.cvip, clear_noon_cvip.cvip, clear_sunset_cvip.cvip], axis=0)\n",
        "indicators_df['x'] = pd.concat([clear_night_traj.x, rain_noon_traj.x, clear_noon_traj.x, clear_sunset_traj.x], axis=0)\n",
        "indicators_df['y'] = pd.concat([clear_night_traj.y, rain_noon_traj.y, clear_noon_traj.y, clear_sunset_traj.y], axis=0)\n",
        "\n",
        "indicators_df.corr() "
      ],
      "metadata": {
        "id": "_onQvxqCxcDG",
        "colab": {
          "base_uri": "https://localhost:8080/",
          "height": 175
        },
        "outputId": "d3c0ab8f-bed8-4c7d-dcb3-1f3ab03ff189"
      },
      "id": "_onQvxqCxcDG",
      "execution_count": null,
      "outputs": [
        {
          "output_type": "execute_result",
          "data": {
            "text/plain": [
              "          steer      cvip         x         y\n",
              "steer  1.000000 -0.125259  0.242422 -0.072079\n",
              "cvip  -0.125259  1.000000 -0.604496  0.646726\n",
              "x      0.242422 -0.604496  1.000000 -0.347289\n",
              "y     -0.072079  0.646726 -0.347289  1.000000"
            ],
            "text/html": [
              "\n",
              "  <div id=\"df-81bb4e0c-8ea9-4ed5-a5ac-ee879b86d334\">\n",
              "    <div class=\"colab-df-container\">\n",
              "      <div>\n",
              "<style scoped>\n",
              "    .dataframe tbody tr th:only-of-type {\n",
              "        vertical-align: middle;\n",
              "    }\n",
              "\n",
              "    .dataframe tbody tr th {\n",
              "        vertical-align: top;\n",
              "    }\n",
              "\n",
              "    .dataframe thead th {\n",
              "        text-align: right;\n",
              "    }\n",
              "</style>\n",
              "<table border=\"1\" class=\"dataframe\">\n",
              "  <thead>\n",
              "    <tr style=\"text-align: right;\">\n",
              "      <th></th>\n",
              "      <th>steer</th>\n",
              "      <th>cvip</th>\n",
              "      <th>x</th>\n",
              "      <th>y</th>\n",
              "    </tr>\n",
              "  </thead>\n",
              "  <tbody>\n",
              "    <tr>\n",
              "      <th>steer</th>\n",
              "      <td>1.000000</td>\n",
              "      <td>-0.125259</td>\n",
              "      <td>0.242422</td>\n",
              "      <td>-0.072079</td>\n",
              "    </tr>\n",
              "    <tr>\n",
              "      <th>cvip</th>\n",
              "      <td>-0.125259</td>\n",
              "      <td>1.000000</td>\n",
              "      <td>-0.604496</td>\n",
              "      <td>0.646726</td>\n",
              "    </tr>\n",
              "    <tr>\n",
              "      <th>x</th>\n",
              "      <td>0.242422</td>\n",
              "      <td>-0.604496</td>\n",
              "      <td>1.000000</td>\n",
              "      <td>-0.347289</td>\n",
              "    </tr>\n",
              "    <tr>\n",
              "      <th>y</th>\n",
              "      <td>-0.072079</td>\n",
              "      <td>0.646726</td>\n",
              "      <td>-0.347289</td>\n",
              "      <td>1.000000</td>\n",
              "    </tr>\n",
              "  </tbody>\n",
              "</table>\n",
              "</div>\n",
              "      <button class=\"colab-df-convert\" onclick=\"convertToInteractive('df-81bb4e0c-8ea9-4ed5-a5ac-ee879b86d334')\"\n",
              "              title=\"Convert this dataframe to an interactive table.\"\n",
              "              style=\"display:none;\">\n",
              "        \n",
              "  <svg xmlns=\"http://www.w3.org/2000/svg\" height=\"24px\"viewBox=\"0 0 24 24\"\n",
              "       width=\"24px\">\n",
              "    <path d=\"M0 0h24v24H0V0z\" fill=\"none\"/>\n",
              "    <path d=\"M18.56 5.44l.94 2.06.94-2.06 2.06-.94-2.06-.94-.94-2.06-.94 2.06-2.06.94zm-11 1L8.5 8.5l.94-2.06 2.06-.94-2.06-.94L8.5 2.5l-.94 2.06-2.06.94zm10 10l.94 2.06.94-2.06 2.06-.94-2.06-.94-.94-2.06-.94 2.06-2.06.94z\"/><path d=\"M17.41 7.96l-1.37-1.37c-.4-.4-.92-.59-1.43-.59-.52 0-1.04.2-1.43.59L10.3 9.45l-7.72 7.72c-.78.78-.78 2.05 0 2.83L4 21.41c.39.39.9.59 1.41.59.51 0 1.02-.2 1.41-.59l7.78-7.78 2.81-2.81c.8-.78.8-2.07 0-2.86zM5.41 20L4 18.59l7.72-7.72 1.47 1.35L5.41 20z\"/>\n",
              "  </svg>\n",
              "      </button>\n",
              "      \n",
              "  <style>\n",
              "    .colab-df-container {\n",
              "      display:flex;\n",
              "      flex-wrap:wrap;\n",
              "      gap: 12px;\n",
              "    }\n",
              "\n",
              "    .colab-df-convert {\n",
              "      background-color: #E8F0FE;\n",
              "      border: none;\n",
              "      border-radius: 50%;\n",
              "      cursor: pointer;\n",
              "      display: none;\n",
              "      fill: #1967D2;\n",
              "      height: 32px;\n",
              "      padding: 0 0 0 0;\n",
              "      width: 32px;\n",
              "    }\n",
              "\n",
              "    .colab-df-convert:hover {\n",
              "      background-color: #E2EBFA;\n",
              "      box-shadow: 0px 1px 2px rgba(60, 64, 67, 0.3), 0px 1px 3px 1px rgba(60, 64, 67, 0.15);\n",
              "      fill: #174EA6;\n",
              "    }\n",
              "\n",
              "    [theme=dark] .colab-df-convert {\n",
              "      background-color: #3B4455;\n",
              "      fill: #D2E3FC;\n",
              "    }\n",
              "\n",
              "    [theme=dark] .colab-df-convert:hover {\n",
              "      background-color: #434B5C;\n",
              "      box-shadow: 0px 1px 3px 1px rgba(0, 0, 0, 0.15);\n",
              "      filter: drop-shadow(0px 1px 2px rgba(0, 0, 0, 0.3));\n",
              "      fill: #FFFFFF;\n",
              "    }\n",
              "  </style>\n",
              "\n",
              "      <script>\n",
              "        const buttonEl =\n",
              "          document.querySelector('#df-81bb4e0c-8ea9-4ed5-a5ac-ee879b86d334 button.colab-df-convert');\n",
              "        buttonEl.style.display =\n",
              "          google.colab.kernel.accessAllowed ? 'block' : 'none';\n",
              "\n",
              "        async function convertToInteractive(key) {\n",
              "          const element = document.querySelector('#df-81bb4e0c-8ea9-4ed5-a5ac-ee879b86d334');\n",
              "          const dataTable =\n",
              "            await google.colab.kernel.invokeFunction('convertToInteractive',\n",
              "                                                     [key], {});\n",
              "          if (!dataTable) return;\n",
              "\n",
              "          const docLinkHtml = 'Like what you see? Visit the ' +\n",
              "            '<a target=\"_blank\" href=https://colab.research.google.com/notebooks/data_table.ipynb>data table notebook</a>'\n",
              "            + ' to learn more about interactive tables.';\n",
              "          element.innerHTML = '';\n",
              "          dataTable['output_type'] = 'display_data';\n",
              "          await google.colab.output.renderOutput(dataTable, element);\n",
              "          const docLink = document.createElement('div');\n",
              "          docLink.innerHTML = docLinkHtml;\n",
              "          element.appendChild(docLink);\n",
              "        }\n",
              "      </script>\n",
              "    </div>\n",
              "  </div>\n",
              "  "
            ]
          },
          "metadata": {},
          "execution_count": 72
        }
      ]
    },
    {
      "cell_type": "code",
      "source": [
        "sns.heatmap(indicators_df.corr(), cmap='vlag')"
      ],
      "metadata": {
        "colab": {
          "base_uri": "https://localhost:8080/",
          "height": 343
        },
        "id": "zLxwl1i_8CFm",
        "outputId": "b9f5404e-78ab-4e43-9a49-3942165f3e67"
      },
      "id": "zLxwl1i_8CFm",
      "execution_count": null,
      "outputs": [
        {
          "output_type": "execute_result",
          "data": {
            "text/plain": [
              "<matplotlib.axes._subplots.AxesSubplot at 0x7f56c913eb50>"
            ]
          },
          "metadata": {},
          "execution_count": 73
        },
        {
          "output_type": "display_data",
          "data": {
            "text/plain": [
              "<Figure size 720x360 with 2 Axes>"
            ],
            "image/png": "[encoded data removed]"
          },
          "metadata": {}
        }
      ]
    },
    {
      "cell_type": "markdown",
      "source": [
        "Since there is relatively strong correlation between x and cvip or y and cvip, we can simply use less fields to predict abnormal AV behaviour while keeping most of the predicting power while using all the features.\n",
        "\n",
        "\n",
        "If we do not consider correlations between certain features (and remove some highly correlated ones), then these features may contribute much more during prediction than it should have."
      ],
      "metadata": {
        "id": "87ea0i_29F3E"
      },
      "id": "87ea0i_29F3E"
    },
    {
      "cell_type": "markdown",
      "source": [
        "## Task 2.5 Kolmogorov-Smirnov two-sample test "
      ],
      "metadata": {
        "id": "g4Rg7g-P9xVc"
      },
      "id": "g4Rg7g-P9xVc"
    },
    {
      "cell_type": "markdown",
      "source": [
        "$H_0$: the distribution of indicator values between in abnormal condition and that in normal condition are identical, so $F(x)=G(x)$ for all $x$ \\\\\n",
        "$H_a$: the distribution of indicator values between in abnormal condition and that in normal condition are not identical $F(x)\\neq G(x)$ (two-sided)\n"
      ],
      "metadata": {
        "id": "6ta6V35OAkT8"
      },
      "id": "6ta6V35OAkT8"
    },
    {
      "cell_type": "code",
      "source": [
        "def ks_2samp(feature, ctl=False, cvip=False, traj=False):\n",
        "  if ctl:\n",
        "    abnormal = pd.concat([clear_night_ctl[feature], rain_noon_ctl[feature]], axis=0)\n",
        "    normal = pd.concat([clear_noon_ctl[feature], clear_sunset_ctl[feature]], axis=0)\n",
        "  elif cvip:\n",
        "    abnormal = pd.concat([clear_night_cvip[feature], rain_noon_cvip[feature]], axis=0)\n",
        "    normal = pd.concat([clear_noon_cvip[feature], clear_sunset_cvip[feature]], axis=0)\n",
        "  elif traj:\n",
        "    abnormal = pd.concat([clear_night_traj[feature], rain_noon_traj[feature]], axis=0)\n",
        "    normal = pd.concat([clear_noon_traj[feature], clear_sunset_traj[feature]], axis=0)\n",
        "  return scipy.stats.ks_2samp(normal, abnormal)\n",
        "ks_2samp('steer', ctl=True)"
      ],
      "metadata": {
        "id": "HsPxM6Xo8Flx",
        "colab": {
          "base_uri": "https://localhost:8080/"
        },
        "outputId": "62bd2be3-e667-47e3-a36d-06036ecde480"
      },
      "id": "HsPxM6Xo8Flx",
      "execution_count": null,
      "outputs": [
        {
          "output_type": "execute_result",
          "data": {
            "text/plain": [
              "KstestResult(statistic=0.255447169023328, pvalue=3.216072714961863e-41)"
            ]
          },
          "metadata": {},
          "execution_count": 74
        }
      ]
    },
    {
      "cell_type": "markdown",
      "source": [
        "Since our p-value is much less than the significance level of 0.05, we reject the null hypothesis and conclude that the probability distributions between the steering data for normal and abnormal conditions are different."
      ],
      "metadata": {
        "id": "4xcfM5C__xKg"
      },
      "id": "4xcfM5C__xKg"
    },
    {
      "cell_type": "code",
      "source": [
        "ks_2samp('cvip', cvip=True)"
      ],
      "metadata": {
        "id": "TY3uF4x_AfAC",
        "colab": {
          "base_uri": "https://localhost:8080/"
        },
        "outputId": "44f4f7df-222b-44dd-ba30-17968c05fc42"
      },
      "id": "TY3uF4x_AfAC",
      "execution_count": null,
      "outputs": [
        {
          "output_type": "execute_result",
          "data": {
            "text/plain": [
              "KstestResult(statistic=0.24501024203010957, pvalue=6.542134262242544e-38)"
            ]
          },
          "metadata": {},
          "execution_count": 75
        }
      ]
    },
    {
      "cell_type": "markdown",
      "source": [
        "Since our p-value is much less than the significance level of 0.05, we reject the null hypothesis and conclude that the probability distributions between the cvip data for normal and abnormal conditions are different."
      ],
      "metadata": {
        "id": "hj5lORhOBT6T"
      },
      "id": "hj5lORhOBT6T"
    },
    {
      "cell_type": "code",
      "source": [
        "ks_2samp('x', traj=True)"
      ],
      "metadata": {
        "id": "rTUlvOWV_F-W",
        "colab": {
          "base_uri": "https://localhost:8080/"
        },
        "outputId": "dd714677-7a4e-41dc-8718-ea09b4a0c866"
      },
      "id": "rTUlvOWV_F-W",
      "execution_count": null,
      "outputs": [
        {
          "output_type": "execute_result",
          "data": {
            "text/plain": [
              "KstestResult(statistic=0.5475548396078197, pvalue=1.0606363957036516e-199)"
            ]
          },
          "metadata": {},
          "execution_count": 76
        }
      ]
    },
    {
      "cell_type": "markdown",
      "source": [
        "Since our p-value is much less than the significance level of 0.05, we reject the null hypothesis and conclude that the probability distributions between the x data for normal and abnormal conditions are different."
      ],
      "metadata": {
        "id": "3W7m3YIoBbh6"
      },
      "id": "3W7m3YIoBbh6"
    },
    {
      "cell_type": "code",
      "source": [
        "ks_2samp('y', traj=True)"
      ],
      "metadata": {
        "colab": {
          "base_uri": "https://localhost:8080/"
        },
        "id": "tWb9o4EXBYse",
        "outputId": "28b13144-35d9-4899-8ccb-79d92d9a99b5"
      },
      "id": "tWb9o4EXBYse",
      "execution_count": null,
      "outputs": [
        {
          "output_type": "execute_result",
          "data": {
            "text/plain": [
              "KstestResult(statistic=0.1277708171747907, pvalue=1.5569290301442607e-10)"
            ]
          },
          "metadata": {},
          "execution_count": 77
        }
      ]
    },
    {
      "cell_type": "markdown",
      "source": [
        "Since our p-value is much less than the significance level of 0.05, we reject the null hypothesis and conclude that the probability distributions between the y data for normal and abnormal conditions are different."
      ],
      "metadata": {
        "id": "fne9ZtQwBgpm"
      },
      "id": "fne9ZtQwBgpm"
    },
    {
      "cell_type": "code",
      "source": [
        "ks_2samp('throttle', ctl=True)"
      ],
      "metadata": {
        "colab": {
          "base_uri": "https://localhost:8080/"
        },
        "id": "2xIMo-eEBfO_",
        "outputId": "758096e3-973c-42d2-a16e-7c212dbd61af"
      },
      "id": "2xIMo-eEBfO_",
      "execution_count": null,
      "outputs": [
        {
          "output_type": "execute_result",
          "data": {
            "text/plain": [
              "KstestResult(statistic=0.13137541515024959, pvalue=4.108169360250713e-11)"
            ]
          },
          "metadata": {},
          "execution_count": 78
        }
      ]
    },
    {
      "cell_type": "markdown",
      "source": [
        "Since our p-value is much less than the significance level of 0.05, we reject the null hypothesis and conclude that the probability distributions between the throttle data for normal and abnormal conditions are different."
      ],
      "metadata": {
        "id": "W80UHM_mB0F9"
      },
      "id": "W80UHM_mB0F9"
    },
    {
      "cell_type": "code",
      "source": [
        "ks_2samp('brake', ctl=True)"
      ],
      "metadata": {
        "colab": {
          "base_uri": "https://localhost:8080/"
        },
        "id": "Si_c3H4OBngl",
        "outputId": "6de1c4e2-b4f6-437c-87f5-226be0360c79"
      },
      "id": "Si_c3H4OBngl",
      "execution_count": null,
      "outputs": [
        {
          "output_type": "execute_result",
          "data": {
            "text/plain": [
              "KstestResult(statistic=0.041483205059364, pvalue=0.16863859937978443)"
            ]
          },
          "metadata": {},
          "execution_count": 79
        }
      ]
    },
    {
      "cell_type": "markdown",
      "source": [
        "Since our p-value is greater than the significance level of 0.05, we fail to reject the null hypothesis and conclude that the probability distributions between the brake data for normal and abnormal conditions are equal."
      ],
      "metadata": {
        "id": "T3-gPM4UB5Px"
      },
      "id": "T3-gPM4UB5Px"
    },
    {
      "cell_type": "code",
      "source": [
        "ks_2samp('v', traj=True)"
      ],
      "metadata": {
        "colab": {
          "base_uri": "https://localhost:8080/"
        },
        "id": "4xcfs3BLBqfq",
        "outputId": "135758de-f733-4251-bedd-3162f8d06304"
      },
      "id": "4xcfs3BLBqfq",
      "execution_count": null,
      "outputs": [
        {
          "output_type": "execute_result",
          "data": {
            "text/plain": [
              "KstestResult(statistic=0.31729610405107095, pvalue=7.068817815005532e-64)"
            ]
          },
          "metadata": {},
          "execution_count": 80
        }
      ]
    },
    {
      "cell_type": "markdown",
      "source": [
        "Since our p-value is much less than the significance level of 0.05, we reject the null hypothesis and conclude that the probability distributions between the v data for normal and abnormal conditions are different."
      ],
      "metadata": {
        "id": "z86uD6HpCAQf"
      },
      "id": "z86uD6HpCAQf"
    },
    {
      "cell_type": "markdown",
      "source": [
        "The major difference between KS test and t-test is that t-test tests on whether the means of two distributions are equal or not, while KS-test catches difference of distance between two distributions, in both shape and mean. Two sample t-test may assume the distribution is approximately normal and variability of two distributions is similar. KS-tests does not assume similarity between two distributions. \n",
        " \n",
        "\n",
        "To conclude, KS test can find more types of discrepancy between two distributions than the t-test can."
      ],
      "metadata": {
        "id": "1dn-rGkRCYBN"
      },
      "id": "1dn-rGkRCYBN"
    },
    {
      "cell_type": "markdown",
      "source": [
        "## Task 2.6 Assumptions of KS two-sample test"
      ],
      "metadata": {
        "id": "9alFj_h9Drgq"
      },
      "id": "9alFj_h9Drgq"
    },
    {
      "cell_type": "markdown",
      "source": [
        "In 2.4, we assume that all the features data are independent from when they were measured (i.e. values at each time point as an individual sample independent from each other). $v$, for example, could have its value at the current timestamp be dependent on its values previous timestamp(s). This is because the change of $v$ is determined by both current $v$ and acceleration. This assumption is shown to fail for both v and throttle, since they were intially not predicted to be indicator variables. Thus, suggesting that both v and throttle are dependent on time."
      ],
      "metadata": {
        "id": "7-h-hJ3bHA_I"
      },
      "id": "7-h-hJ3bHA_I"
    },
    {
      "cell_type": "markdown",
      "source": [
        "## Task 2.7 Dynamic-time-wrapper (DTW)"
      ],
      "metadata": {
        "id": "vvOiG6n6I8cw"
      },
      "id": "vvOiG6n6I8cw"
    },
    {
      "cell_type": "code",
      "source": [
        "!pip install git+https://github.com/wannesm/dtaidistance.git#egg=dtaidistance"
      ],
      "metadata": {
        "colab": {
          "base_uri": "https://localhost:8080/"
        },
        "id": "b4rSgnk-I5S3",
        "outputId": "20f7e2a0-f4f9-4f21-a427-e14c16a8e99f"
      },
      "id": "b4rSgnk-I5S3",
      "execution_count": null,
      "outputs": [
        {
          "output_type": "stream",
          "name": "stdout",
          "text": [
            "Looking in indexes: https://pypi.org/simple, https://us-python.pkg.dev/colab-wheels/public/simple/\n",
            "Collecting dtaidistance\n",
            "  Cloning https://github.com/wannesm/dtaidistance.git to /tmp/pip-install-yp9n0ugg/dtaidistance_9c894489ca724109b3c8eeb533ebecab\n",
            "  Running command git clone -q https://github.com/wannesm/dtaidistance.git /tmp/pip-install-yp9n0ugg/dtaidistance_9c894489ca724109b3c8eeb533ebecab\n",
            "  Installing build dependencies ... \u001b[?25l\u001b[?25hdone\n",
            "  Getting requirements to build wheel ... \u001b[?25l\u001b[?25hdone\n",
            "    Preparing wheel metadata ... \u001b[?25l\u001b[?25hdone\n",
            "Requirement already satisfied: numpy in /usr/local/lib/python3.7/dist-packages (from dtaidistance) (1.21.6)\n"
          ]
        }
      ]
    },
    {
      "cell_type": "code",
      "source": [
        "from dtaidistance import dtw\n",
        "\n",
        "dtw1 = dtw.distance(clear_night_ctl['steer'], clear_noon_ctl['steer'])\n",
        "dtw2 = dtw.distance(clear_sunset_ctl['steer'], clear_noon_ctl['steer'])\n",
        "print('dtw of steering data between clear-noon and clear-night: ' + str(dtw1))\n",
        "print('dtw of steering data between clear-sunset and clear-noon: ' + str(dtw2))"
      ],
      "metadata": {
        "id": "4pADUy5PHAFB",
        "colab": {
          "base_uri": "https://localhost:8080/"
        },
        "outputId": "2f88d2d5-2f34-4974-b887-f96f3c3e2b38"
      },
      "id": "4pADUy5PHAFB",
      "execution_count": null,
      "outputs": [
        {
          "output_type": "stream",
          "name": "stdout",
          "text": [
            "dtw of steering data between clear-noon and clear-night: 1.719544523494614\n",
            "dtw of steering data between clear-sunset and clear-noon: 0.061802231504329126\n"
          ]
        }
      ]
    },
    {
      "cell_type": "markdown",
      "source": [
        "Temporally, the steering data between clear-night and clear-noon are less similar than the steering data between clear-sunset and clear-noon."
      ],
      "metadata": {
        "id": "utfEOjx2PCvo"
      },
      "id": "utfEOjx2PCvo"
    },
    {
      "cell_type": "markdown",
      "source": [
        "# Task 3\n",
        "## Task 3.1a\n",
        "The assumption of at most one disengagement per mile allows us to treat the occurrence of a disengagement in a mile as a random variable with a Bernoulli distribution."
      ],
      "metadata": {
        "id": "QS8gvGgtuJs3"
      },
      "id": "QS8gvGgtuJs3"
    },
    {
      "cell_type": "markdown",
      "source": [
        "## Tasks 3.1b/c"
      ],
      "metadata": {
        "id": "udQjPZ_xUPmb"
      },
      "id": "udQjPZ_xUPmb"
    },
    {
      "cell_type": "code",
      "source": [
        "disengagements = pd.read_csv('mp1_av_disengagements.csv')\n",
        "total_miles = 505229"
      ],
      "metadata": {
        "id": "pdNecL0gUsp-"
      },
      "id": "pdNecL0gUsp-",
      "execution_count": null,
      "outputs": []
    },
    {
      "cell_type": "markdown",
      "source": [
        "$P(D)$ is"
      ],
      "metadata": {
        "id": "TpKXyQRBSNWu"
      },
      "id": "TpKXyQRBSNWu"
    },
    {
      "cell_type": "code",
      "source": [
        "p = len(disengagements) / total_miles # Probability of disengagement per mile"
      ],
      "metadata": {
        "colab": {
          "base_uri": "https://localhost:8080/"
        },
        "id": "Js4U7lHSTllq",
        "outputId": "8ade15a1-8008-4d1e-e82c-d4ad79ba5427"
      },
      "id": "Js4U7lHSTllq",
      "execution_count": null,
      "outputs": [
        {
          "output_type": "execute_result",
          "data": {
            "text/plain": [
              "0.002026803687040926"
            ]
          },
          "metadata": {},
          "execution_count": 58
        }
      ]
    },
    {
      "cell_type": "markdown",
      "source": [
        "Let D be disengagement per mile \\\\\n",
        "$P(D | \\text{cloud}) = \\frac{P(\\text{cloud} | D)*P(D)}{P(cloud)}$"
      ],
      "metadata": {
        "id": "8AJC4SqpPKpV"
      },
      "id": "8AJC4SqpPKpV"
    },
    {
      "cell_type": "code",
      "source": [
        "# Bayes rule for conditional probability\n",
        "P_clear = 0.72\n",
        "P_cloudy = 1-P_clear\n",
        "print(p, len(disengagements))\n",
        "p_cloudy_disengagement = 1.0 * disengagements['Weather'].value_counts()['cloudy'] / len(disengagements) * p / P_cloudy\n",
        "p_clear_disengagement = 1.0 * disengagements['Weather'].value_counts()['clear'] / len(disengagements) * p / P_clear\n",
        "\n",
        "print('Probability of a disengagement on a given mile on a cloudy day: %f' % p_cloudy_disengagement)\n",
        "print('Probability of a disengagement on a given mile on a clear day: %f' % p_clear_disengagement)\n"
      ],
      "metadata": {
        "colab": {
          "base_uri": "https://localhost:8080/"
        },
        "id": "L_RQfKhdQOb5",
        "outputId": "7af3a646-77e6-4698-8adf-b7b0afbdc365"
      },
      "id": "L_RQfKhdQOb5",
      "execution_count": null,
      "outputs": [
        {
          "output_type": "stream",
          "name": "stdout",
          "text": [
            "0.002026803687040926 1024\n",
            "Probability of a disengagement on a given mile on a cloudy day: 0.005903\n",
            "Probability of a disengagement on a given mile on a clear day: 0.000520\n"
          ]
        }
      ]
    },
    {
      "cell_type": "markdown",
      "source": [
        "## Task 3.1d"
      ],
      "metadata": {
        "id": "QugHIUDqU3ym"
      },
      "id": "QugHIUDqU3ym"
    },
    {
      "cell_type": "code",
      "source": [
        "automatic_disengagements = disengagements[disengagements.TypeOfTrigger == 'automatic']"
      ],
      "metadata": {
        "id": "8LgDZnbXU7sG"
      },
      "id": "8LgDZnbXU7sG",
      "execution_count": null,
      "outputs": []
    },
    {
      "cell_type": "code",
      "source": [
        "n_automatic = disengagements['TypeOfTrigger'].value_counts()['automatic']\n",
        "p_automatic = n_automatic / 505229 # Probability of automatic disengagement per mile\n",
        "\n",
        "p_cloudy_automatic = automatic_disengagements['Weather'].value_counts()['cloudy'] / n_automatic * p_automatic / P_cloudy\n",
        "p_clear_automatic = automatic_disengagements['Weather'].value_counts()['clear'] / n_automatic * p_automatic / P_clear\n",
        "print('Probability of an automatic disengagement on a given mile on a cloudy day: %f' % p_cloudy_automatic)\n",
        "print('Probability of an automatic disengagement on a given mile on a clear day: %f' % p_clear_automatic)"
      ],
      "metadata": {
        "colab": {
          "base_uri": "https://localhost:8080/"
        },
        "id": "ayrLtpHNaGhZ",
        "outputId": "13e5f6fe-1915-4809-d38b-cb873f016375"
      },
      "id": "ayrLtpHNaGhZ",
      "execution_count": null,
      "outputs": [
        {
          "output_type": "stream",
          "name": "stdout",
          "text": [
            "Probability of an automatic disengagement on a given mile on a cloudy day: 0.002806\n",
            "Probability of an automatic disengagement on a given mile on a clear day: 0.000264\n"
          ]
        }
      ]
    },
    {
      "cell_type": "markdown",
      "source": [
        "## Task 3.1e\n",
        "\n"
      ],
      "metadata": {
        "id": "2Xz16d1wV3aO"
      },
      "id": "2Xz16d1wV3aO"
    },
    {
      "cell_type": "code",
      "source": [
        "import scipy.integrate as integrate\n",
        "\n",
        "mean = p_cloudy_disengagement\n",
        "std = np.sqrt(p_cloudy_disengagement * (1- p_cloudy_disengagement) )\n",
        "\n",
        "n = 10000\n",
        "Sn = 100\n",
        "alpha = (Sn - n * mean) / (std * np.sqrt(n))\n",
        "\n",
        "result =  integrate.quad(lambda x: np.exp((-x**2)/2), alpha, np.Inf)\n",
        "result = (1/np.sqrt(2*np.pi)) * result[0]\n",
        "print( 'Likelihood that there are 100 or more disengagements in 10,000 miles: %E' % result)\n",
        "print('It is very unlikely there will be 100 or more disengagements.')"
      ],
      "metadata": {
        "colab": {
          "base_uri": "https://localhost:8080/"
        },
        "id": "PSo4Na5IV5ZK",
        "outputId": "4a2e2312-a4ee-4b22-8cf3-3bfb297ea084"
      },
      "id": "PSo4Na5IV5ZK",
      "execution_count": null,
      "outputs": [
        {
          "output_type": "stream",
          "name": "stdout",
          "text": [
            "Likelihood that there are 100 or more disengagements in 10,000 miles: 4.420338E-08\n",
            "It is very unlikely there will be 100 or more disengagements.\n"
          ]
        }
      ]
    },
    {
      "cell_type": "markdown",
      "source": [
        "Disengagement is a binomial distribution with n = 10000, p = 0.0059. \\\\\n",
        "So $\\mu = 10000*0.0059 = 59$ \\\\\n",
        "$\\sigma = \\sqrt{10000*0.0059*(1-0.0059)} = 7.658$ \\\\\n",
        "Since 12000 is a large number, we can use the Central Limit Theorem:"
      ],
      "metadata": {
        "id": "pejWVq3OcDDu"
      },
      "id": "pejWVq3OcDDu"
    },
    {
      "cell_type": "code",
      "source": [
        "from scipy.stats import norm\n",
        "z = (100 - 59) / 7.658\n",
        "p_100_more = 1-norm.cdf(z)\n",
        "\n",
        "print( 'Likelihood that there are 100 or more disengagements in 10,000 miles: %E' % p_100_more)\n",
        "print('It is very unlikely there will be 100 or more disengagements.')"
      ],
      "metadata": {
        "id": "oSxfcdxQb_OH",
        "colab": {
          "base_uri": "https://localhost:8080/"
        },
        "outputId": "e791b612-8e96-4881-b2c6-993d43a1b75d"
      },
      "id": "oSxfcdxQb_OH",
      "execution_count": null,
      "outputs": [
        {
          "output_type": "stream",
          "name": "stdout",
          "text": [
            "Likelihood that there are 100 or more disengagements in 10,000 miles: 4.304439E-08\n",
            "It is very unlikely there will be 100 or more disengagements.\n"
          ]
        }
      ]
    },
    {
      "cell_type": "markdown",
      "source": [
        "## Task 3.2a\n",
        "There is a geometric distribution of miles to the next disengagment. The probability models the first occurrence of disengagement requires x miles.\n",
        "\n",
        "There parameters of the distribution would be k, the number of miles till the next disengagement, and p, the probability of disengagement per mile \n"
      ],
      "metadata": {
        "id": "g5d5f2zGJf8T"
      },
      "id": "g5d5f2zGJf8T"
    },
    {
      "cell_type": "code",
      "source": [
        "p_g =  p_cloudy_disengagement\n",
        "p_g"
      ],
      "metadata": {
        "colab": {
          "base_uri": "https://localhost:8080/"
        },
        "id": "XcOhaEdVLDDY",
        "outputId": "74228178-08bd-4158-b719-1f3487945dd6"
      },
      "id": "XcOhaEdVLDDY",
      "execution_count": 94,
      "outputs": [
        {
          "output_type": "execute_result",
          "data": {
            "text/plain": [
              "0.00590255677552725"
            ]
          },
          "metadata": {},
          "execution_count": 94
        }
      ]
    },
    {
      "cell_type": "markdown",
      "source": [
        "$p(k) = (1-p)^{k-1}p$"
      ],
      "metadata": {
        "id": "A94rR2JJuqWv"
      },
      "id": "A94rR2JJuqWv"
    },
    {
      "cell_type": "markdown",
      "source": [
        "## Task 3.2b: \n",
        "The binomial distribution describes the probabilities for repeated Bernoulli trials (3.1a) has parameter n = 10000, p = 0.002026 "
      ],
      "metadata": {
        "id": "Cm7P764lNgmu"
      },
      "id": "Cm7P764lNgmu"
    },
    {
      "cell_type": "markdown",
      "source": [
        "## Task 3.2c: \n",
        "When X ∼ Binom(n, p) with large n, small p, such that\n",
        "np ≃ λ. Then X is approximately Poisson distributed. It has parameter λ "
      ],
      "metadata": {
        "id": "5lJveUZjOvJ_"
      },
      "id": "5lJveUZjOvJ_"
    },
    {
      "cell_type": "code",
      "source": [
        "n = 10000\n",
        "lamda = p_cloudy_disengagement * n\n",
        "lamda"
      ],
      "metadata": {
        "colab": {
          "base_uri": "https://localhost:8080/"
        },
        "id": "1xhE4s3HO7I0",
        "outputId": "1e48bc91-54c8-4203-bd38-e4fdb813613f"
      },
      "id": "1xhE4s3HO7I0",
      "execution_count": null,
      "outputs": [
        {
          "output_type": "execute_result",
          "data": {
            "text/plain": [
              "59.0255677552725"
            ]
          },
          "metadata": {},
          "execution_count": 14
        }
      ]
    },
    {
      "cell_type": "markdown",
      "source": [
        "## Task 3.2d"
      ],
      "metadata": {
        "id": "fIMbSX0zwdCW"
      },
      "id": "fIMbSX0zwdCW"
    },
    {
      "cell_type": "code",
      "source": [
        "from scipy.stats import binom\n",
        "r_values = list(range(100))\n",
        "dist = [binom.pmf(r, n, p_cloudy_disengagement) for r in r_values ]\n",
        "plt.bar(r_values, dist)\n",
        "plt.show()"
      ],
      "metadata": {
        "colab": {
          "base_uri": "https://localhost:8080/",
          "height": 265
        },
        "id": "f6YkKKVNQZHZ",
        "outputId": "63b9a805-2b46-43f2-a3ef-29bc3ab90603"
      },
      "id": "f6YkKKVNQZHZ",
      "execution_count": null,
      "outputs": [
        {
          "output_type": "display_data",
          "data": {
            "text/plain": [
              "<Figure size 432x288 with 1 Axes>"
            ],
            "image/png": "[encoded data removed]"
          },
          "metadata": {
            "needs_background": "light"
          }
        }
      ]
    },
    {
      "cell_type": "code",
      "source": [
        "from scipy.stats import poisson\n",
        "\n",
        "x = np.arange(0, 100, 0.5)\n",
        "y = poisson.pmf(x, mu=lamda, loc=0)\n",
        "plt.plot(x, y)\n",
        "\n",
        "plt.show()"
      ],
      "metadata": {
        "colab": {
          "base_uri": "https://localhost:8080/",
          "height": 265
        },
        "id": "-_95QboLPDuB",
        "outputId": "22c6d30f-9198-4309-a117-d00ff9c67ff9"
      },
      "id": "-_95QboLPDuB",
      "execution_count": null,
      "outputs": [
        {
          "output_type": "display_data",
          "data": {
            "text/plain": [
              "<Figure size 432x288 with 1 Axes>"
            ],
            "image/png": "[encoded data removed]"
          },
          "metadata": {
            "needs_background": "light"
          }
        }
      ]
    },
    {
      "cell_type": "markdown",
      "source": [
        "Both plots look like normal distribution"
      ],
      "metadata": {
        "id": "dQq70zUwwoFM"
      },
      "id": "dQq70zUwwoFM"
    },
    {
      "cell_type": "markdown",
      "source": [
        "## Task 3.2e\n",
        "Under poisson distribution "
      ],
      "metadata": {
        "id": "rT3xmgViyifE"
      },
      "id": "rT3xmgViyifE"
    },
    {
      "cell_type": "code",
      "source": [
        "p_100_more_2 = 1-poisson.cdf(100, lamda)\n",
        "print( 'Likelihood that there are 100 or more disengagements in 10,000 miles: %E' % p_100_more_2)\n"
      ],
      "metadata": {
        "colab": {
          "base_uri": "https://localhost:8080/"
        },
        "id": "FSbGGLnPy2FS",
        "outputId": "8ab7e647-9f00-498a-a0a0-ded086d6cd79"
      },
      "id": "FSbGGLnPy2FS",
      "execution_count": null,
      "outputs": [
        {
          "output_type": "stream",
          "name": "stdout",
          "text": [
            "Likelihood that there are 100 or more disengagements in 10,000 miles: 4.308829E-07\n"
          ]
        }
      ]
    },
    {
      "cell_type": "markdown",
      "source": [
        "The result is very close to that of 3.2.c, but not equal. This is because poisson distribution is an approximation, and n is large enough (as well as p is small enough) to reach similar probability of 10000 Bernoulli trials."
      ],
      "metadata": {
        "id": "6LQU9mZxzjkJ"
      },
      "id": "6LQU9mZxzjkJ"
    },
    {
      "cell_type": "markdown",
      "source": [
        "## Tasks 3.3a/b"
      ],
      "metadata": {
        "id": "55jNMMk1jM42"
      },
      "id": "55jNMMk1jM42"
    },
    {
      "cell_type": "code",
      "source": [
        "cloudy_automatic = automatic_disengagements[automatic_disengagements['Weather'] == 'cloudy']\n",
        "\n",
        "reaction_time_a = cloudy_automatic[cloudy_automatic['ReactionTime'] > 0.4]\n",
        "p_reaction_a = (len(reaction_time_a) /  len(cloudy_automatic))\n",
        "print('Conditional probability that reaction time is > 0.4s given weather is cloudy: %f' % p_reaction_a)"
      ],
      "metadata": {
        "colab": {
          "base_uri": "https://localhost:8080/"
        },
        "id": "us_hp3R-jQNR",
        "outputId": "ec65b1bd-049b-4ef3-a9c9-fd923652572f"
      },
      "id": "us_hp3R-jQNR",
      "execution_count": null,
      "outputs": [
        {
          "output_type": "stream",
          "name": "stdout",
          "text": [
            "Conditional probability that reaction time is > 0.4s given weather is cloudy: 0.612091\n"
          ]
        }
      ]
    },
    {
      "cell_type": "code",
      "source": [
        "clear_automatic = automatic_disengagements[automatic_disengagements['Weather'] == 'clear']\n",
        "reaction_time_b = clear_automatic[clear_automatic['ReactionTime'] > 0.7]\n",
        "p_reaction_b = (len(reaction_time_b) /  len(clear_automatic))\n",
        "print('Conditional probability that reaction time is > 0.7s given weather is clear: %f' % p_reaction_b)"
      ],
      "metadata": {
        "colab": {
          "base_uri": "https://localhost:8080/"
        },
        "id": "rS0CD32V79lh",
        "outputId": "bb944347-9fdf-45d9-8847-7d1582f86d3d"
      },
      "id": "rS0CD32V79lh",
      "execution_count": null,
      "outputs": [
        {
          "output_type": "stream",
          "name": "stdout",
          "text": [
            "Conditional probability that reaction time is > 0.7s given weather is clear: 0.385417\n"
          ]
        }
      ]
    },
    {
      "cell_type": "markdown",
      "source": [
        "## Task 3.4\n",
        "\n"
      ],
      "metadata": {
        "id": "jZQgyLzRlkc_"
      },
      "id": "jZQgyLzRlkc_"
    },
    {
      "cell_type": "code",
      "source": [
        "clear_slow = clear_automatic[clear_automatic['ReactionTime'] > 0.7]\n",
        "\n",
        "p_automatic_slow = ( len(reaction_time_a) + len(clear_slow) ) / total_miles\n",
        "\n",
        "print('Probability of an accident per mile due to automatic AV disengagement and slow reaction: %f' % (p_automatic_slow))"
      ],
      "metadata": {
        "colab": {
          "base_uri": "https://localhost:8080/"
        },
        "id": "Ub4f9GFUlqSm",
        "outputId": "b1621167-5df5-48e0-9b96-459ae4a19b27"
      },
      "id": "Ub4f9GFUlqSm",
      "execution_count": null,
      "outputs": [
        {
          "output_type": "stream",
          "name": "stdout",
          "text": [
            "Probability of an accident per mile due to automatic AV disengagement and slow reaction: 0.000554\n"
          ]
        }
      ]
    },
    {
      "cell_type": "markdown",
      "source": [
        "$P(\\text{automatic disengagement } \\cap \\text{slow}) = P(\\text{slow }| \\text{ automatic disengagement}) \\cdot P(\\text{automatic disengagement})$"
      ],
      "metadata": {
        "id": "qyLDk_j6EKxd"
      },
      "id": "qyLDk_j6EKxd"
    },
    {
      "cell_type": "code",
      "source": [
        "p_automatic_disengagements = len(automatic_disengagements) * 1.0 / total_miles\n",
        "p_automatic_slow = (p_reaction_a + p_reaction_b) * p_automatic_disengagements\n",
        "p_automatic_slow\n",
        "print('Probability of an accident per mile due to automatic AV disengagement and slow reaction: %f' % (p_automatic_slow))"
      ],
      "metadata": {
        "colab": {
          "base_uri": "https://localhost:8080/"
        },
        "id": "JRSKtJN_8Uba",
        "outputId": "15947996-e05c-4d6a-a432-3e4d3a0759a9"
      },
      "id": "JRSKtJN_8Uba",
      "execution_count": null,
      "outputs": [
        {
          "output_type": "stream",
          "name": "stdout",
          "text": [
            "Probability of an accident per mile due to automatic AV disengagement and slow reaction: 0.000973\n"
          ]
        }
      ]
    },
    {
      "cell_type": "markdown",
      "source": [
        "## Task 3.5a"
      ],
      "metadata": {
        "id": "Ox5KcFsEws5g"
      },
      "id": "Ox5KcFsEws5g"
    },
    {
      "cell_type": "code",
      "source": [
        "posterior = len(reaction_time_a[reaction_time_a.Cause == \"Software Froze\"]) / len(reaction_time_a)\n",
        "print(\"P(SF|auto disengagement, rt>0.4s, cloudy): %f\" % posterior)"
      ],
      "metadata": {
        "colab": {
          "base_uri": "https://localhost:8080/"
        },
        "id": "XSxsAlRGHIkN",
        "outputId": "cb85a97f-b3fb-47a7-8c6f-3d8e668bb1b4"
      },
      "id": "XSxsAlRGHIkN",
      "execution_count": null,
      "outputs": [
        {
          "output_type": "stream",
          "name": "stdout",
          "text": [
            "P(SF|auto, rt>0.4s, cloudy): 0.053498\n"
          ]
        }
      ]
    },
    {
      "cell_type": "markdown",
      "source": [
        "## Task 3.5b"
      ],
      "metadata": {
        "id": "HmSiVnG-zSaa"
      },
      "id": "HmSiVnG-zSaa"
    },
    {
      "cell_type": "code",
      "source": [
        "posterior = len(reaction_time_b[reaction_time_b.Cause == \"Software Froze\"]) / len(reaction_time_b)\n",
        "print(\"P(SF|auto disengagement, rt>0.7s, clear): %f\" % posterior)"
      ],
      "metadata": {
        "colab": {
          "base_uri": "https://localhost:8080/"
        },
        "id": "RYjxO2ToI9RB",
        "outputId": "2353594c-c1c7-40b2-9f97-91f360692754"
      },
      "id": "RYjxO2ToI9RB",
      "execution_count": null,
      "outputs": [
        {
          "output_type": "stream",
          "name": "stdout",
          "text": [
            "P(SF|auto disengagement, rt>0.7s, clear): 0.243243\n"
          ]
        }
      ]
    },
    {
      "cell_type": "markdown",
      "source": [
        "## Task 3.6a"
      ],
      "metadata": {
        "id": "3jT3VMmeC_SP"
      },
      "id": "3jT3VMmeC_SP"
    },
    {
      "cell_type": "markdown",
      "source": [
        "<img src='https://github.com/seanseungbeomlee/ECE-471-MP1-AV-Analysis/blob/8d65a88241d91a3d6e3d1162dff15cb50499cef6/naive_bayes_diagram.png?raw=true' width = 300px>"
      ],
      "metadata": {
        "id": "pOxenBfqFPoG"
      },
      "id": "pOxenBfqFPoG"
    },
    {
      "cell_type": "markdown",
      "source": [
        "## Task 3.6b\n",
        "\n",
        "*   Prior (2 parameters): P(Software Froze), P(Hardware Fault), P(Other)\n",
        "*   Conditional Probability (6): P(Location|C) and P(Weather|C) for all three causes (C)\n",
        "\n",
        "A total of 9 parameters for prior and conditional probability. \n"
      ],
      "metadata": {
        "id": "8UOTMqxlGEFz"
      },
      "id": "8UOTMqxlGEFz"
    },
    {
      "cell_type": "markdown",
      "source": [
        "## Task 3.6c\n",
        "Prior:"
      ],
      "metadata": {
        "id": "5MBoIVjPKbBs"
      },
      "id": "5MBoIVjPKbBs"
    },
    {
      "cell_type": "code",
      "source": [
        "cause = disengagements['Cause'].unique()\n",
        "cause\n",
        "# Preprocess 'Other' cause\n",
        "disengagements.loc[(disengagements['Cause']!= 'Software Froze') & (disengagements['Cause'] != 'Hardware Fault'),'Cause'] = 'Other'\n",
        "cause = disengagements['Cause'].unique()\n",
        "cause"
      ],
      "metadata": {
        "colab": {
          "base_uri": "https://localhost:8080/"
        },
        "id": "HjoUTMdjJ_zV",
        "outputId": "16a4280f-0713-4d15-bedb-9ea0f8612961"
      },
      "id": "HjoUTMdjJ_zV",
      "execution_count": null,
      "outputs": [
        {
          "output_type": "execute_result",
          "data": {
            "text/plain": [
              "array(['Other', 'Software Froze', 'Hardware Fault'], dtype=object)"
            ]
          },
          "metadata": {},
          "execution_count": 97
        }
      ]
    },
    {
      "cell_type": "code",
      "source": [
        "prior = pd.DataFrame()\n",
        "for c in cause:\n",
        "  prior.loc[c, 'P'] = (disengagements['Cause']==c).sum() * 1.0 / len(disengagements)\n",
        "prior"
      ],
      "metadata": {
        "colab": {
          "base_uri": "https://localhost:8080/",
          "height": 143
        },
        "id": "LHO_LMfQ2xZ6",
        "outputId": "a385605a-e67b-476c-a9f2-5b3f701c5ab7"
      },
      "id": "LHO_LMfQ2xZ6",
      "execution_count": null,
      "outputs": [
        {
          "output_type": "execute_result",
          "data": {
            "text/plain": [
              "                       P\n",
              "Other           0.802734\n",
              "Software Froze  0.095703\n",
              "Hardware Fault  0.101562"
            ],
            "text/html": [
              "\n",
              "  <div id=\"df-37fabc59-8dbe-42c7-8bdb-e6eaaf227b9c\">\n",
              "    <div class=\"colab-df-container\">\n",
              "      <div>\n",
              "<style scoped>\n",
              "    .dataframe tbody tr th:only-of-type {\n",
              "        vertical-align: middle;\n",
              "    }\n",
              "\n",
              "    .dataframe tbody tr th {\n",
              "        vertical-align: top;\n",
              "    }\n",
              "\n",
              "    .dataframe thead th {\n",
              "        text-align: right;\n",
              "    }\n",
              "</style>\n",
              "<table border=\"1\" class=\"dataframe\">\n",
              "  <thead>\n",
              "    <tr style=\"text-align: right;\">\n",
              "      <th></th>\n",
              "      <th>P</th>\n",
              "    </tr>\n",
              "  </thead>\n",
              "  <tbody>\n",
              "    <tr>\n",
              "      <th>Other</th>\n",
              "      <td>0.802734</td>\n",
              "    </tr>\n",
              "    <tr>\n",
              "      <th>Software Froze</th>\n",
              "      <td>0.095703</td>\n",
              "    </tr>\n",
              "    <tr>\n",
              "      <th>Hardware Fault</th>\n",
              "      <td>0.101562</td>\n",
              "    </tr>\n",
              "  </tbody>\n",
              "</table>\n",
              "</div>\n",
              "      <button class=\"colab-df-convert\" onclick=\"convertToInteractive('df-37fabc59-8dbe-42c7-8bdb-e6eaaf227b9c')\"\n",
              "              title=\"Convert this dataframe to an interactive table.\"\n",
              "              style=\"display:none;\">\n",
              "        \n",
              "  <svg xmlns=\"http://www.w3.org/2000/svg\" height=\"24px\"viewBox=\"0 0 24 24\"\n",
              "       width=\"24px\">\n",
              "    <path d=\"M0 0h24v24H0V0z\" fill=\"none\"/>\n",
              "    <path d=\"M18.56 5.44l.94 2.06.94-2.06 2.06-.94-2.06-.94-.94-2.06-.94 2.06-2.06.94zm-11 1L8.5 8.5l.94-2.06 2.06-.94-2.06-.94L8.5 2.5l-.94 2.06-2.06.94zm10 10l.94 2.06.94-2.06 2.06-.94-2.06-.94-.94-2.06-.94 2.06-2.06.94z\"/><path d=\"M17.41 7.96l-1.37-1.37c-.4-.4-.92-.59-1.43-.59-.52 0-1.04.2-1.43.59L10.3 9.45l-7.72 7.72c-.78.78-.78 2.05 0 2.83L4 21.41c.39.39.9.59 1.41.59.51 0 1.02-.2 1.41-.59l7.78-7.78 2.81-2.81c.8-.78.8-2.07 0-2.86zM5.41 20L4 18.59l7.72-7.72 1.47 1.35L5.41 20z\"/>\n",
              "  </svg>\n",
              "      </button>\n",
              "      \n",
              "  <style>\n",
              "    .colab-df-container {\n",
              "      display:flex;\n",
              "      flex-wrap:wrap;\n",
              "      gap: 12px;\n",
              "    }\n",
              "\n",
              "    .colab-df-convert {\n",
              "      background-color: #E8F0FE;\n",
              "      border: none;\n",
              "      border-radius: 50%;\n",
              "      cursor: pointer;\n",
              "      display: none;\n",
              "      fill: #1967D2;\n",
              "      height: 32px;\n",
              "      padding: 0 0 0 0;\n",
              "      width: 32px;\n",
              "    }\n",
              "\n",
              "    .colab-df-convert:hover {\n",
              "      background-color: #E2EBFA;\n",
              "      box-shadow: 0px 1px 2px rgba(60, 64, 67, 0.3), 0px 1px 3px 1px rgba(60, 64, 67, 0.15);\n",
              "      fill: #174EA6;\n",
              "    }\n",
              "\n",
              "    [theme=dark] .colab-df-convert {\n",
              "      background-color: #3B4455;\n",
              "      fill: #D2E3FC;\n",
              "    }\n",
              "\n",
              "    [theme=dark] .colab-df-convert:hover {\n",
              "      background-color: #434B5C;\n",
              "      box-shadow: 0px 1px 3px 1px rgba(0, 0, 0, 0.15);\n",
              "      filter: drop-shadow(0px 1px 2px rgba(0, 0, 0, 0.3));\n",
              "      fill: #FFFFFF;\n",
              "    }\n",
              "  </style>\n",
              "\n",
              "      <script>\n",
              "        const buttonEl =\n",
              "          document.querySelector('#df-37fabc59-8dbe-42c7-8bdb-e6eaaf227b9c button.colab-df-convert');\n",
              "        buttonEl.style.display =\n",
              "          google.colab.kernel.accessAllowed ? 'block' : 'none';\n",
              "\n",
              "        async function convertToInteractive(key) {\n",
              "          const element = document.querySelector('#df-37fabc59-8dbe-42c7-8bdb-e6eaaf227b9c');\n",
              "          const dataTable =\n",
              "            await google.colab.kernel.invokeFunction('convertToInteractive',\n",
              "                                                     [key], {});\n",
              "          if (!dataTable) return;\n",
              "\n",
              "          const docLinkHtml = 'Like what you see? Visit the ' +\n",
              "            '<a target=\"_blank\" href=https://colab.research.google.com/notebooks/data_table.ipynb>data table notebook</a>'\n",
              "            + ' to learn more about interactive tables.';\n",
              "          element.innerHTML = '';\n",
              "          dataTable['output_type'] = 'display_data';\n",
              "          await google.colab.output.renderOutput(dataTable, element);\n",
              "          const docLink = document.createElement('div');\n",
              "          docLink.innerHTML = docLinkHtml;\n",
              "          element.appendChild(docLink);\n",
              "        }\n",
              "      </script>\n",
              "    </div>\n",
              "  </div>\n",
              "  "
            ]
          },
          "metadata": {},
          "execution_count": 98
        }
      ]
    },
    {
      "cell_type": "code",
      "source": [
        "location = disengagements['Location'].unique()\n",
        "weather = disengagements['Weather'].unique()\n",
        "location_cpt = pd.DataFrame()\n",
        "\n",
        "for c in cause:\n",
        "  for l in location:\n",
        "    location_cpt.loc[c, l] = ((disengagements['Location']==l) & (disengagements['Cause'] == c)).sum() / (disengagements['Cause']==c).sum()\n",
        "location_cpt"
      ],
      "metadata": {
        "colab": {
          "base_uri": "https://localhost:8080/",
          "height": 143
        },
        "id": "NDhNs2uW-ICh",
        "outputId": "6b7bb06b-37bd-4b3e-dcfa-e3b5d626863c"
      },
      "id": "NDhNs2uW-ICh",
      "execution_count": null,
      "outputs": [
        {
          "output_type": "execute_result",
          "data": {
            "text/plain": [
              "                urban-street   highway\n",
              "Other               0.993917  0.006083\n",
              "Software Froze      0.938776  0.061224\n",
              "Hardware Fault      0.913462  0.086538"
            ],
            "text/html": [
              "\n",
              "  <div id=\"df-6ebee252-909a-4dd4-8af9-7a4fa396708c\">\n",
              "    <div class=\"colab-df-container\">\n",
              "      <div>\n",
              "<style scoped>\n",
              "    .dataframe tbody tr th:only-of-type {\n",
              "        vertical-align: middle;\n",
              "    }\n",
              "\n",
              "    .dataframe tbody tr th {\n",
              "        vertical-align: top;\n",
              "    }\n",
              "\n",
              "    .dataframe thead th {\n",
              "        text-align: right;\n",
              "    }\n",
              "</style>\n",
              "<table border=\"1\" class=\"dataframe\">\n",
              "  <thead>\n",
              "    <tr style=\"text-align: right;\">\n",
              "      <th></th>\n",
              "      <th>urban-street</th>\n",
              "      <th>highway</th>\n",
              "    </tr>\n",
              "  </thead>\n",
              "  <tbody>\n",
              "    <tr>\n",
              "      <th>Other</th>\n",
              "      <td>0.993917</td>\n",
              "      <td>0.006083</td>\n",
              "    </tr>\n",
              "    <tr>\n",
              "      <th>Software Froze</th>\n",
              "      <td>0.938776</td>\n",
              "      <td>0.061224</td>\n",
              "    </tr>\n",
              "    <tr>\n",
              "      <th>Hardware Fault</th>\n",
              "      <td>0.913462</td>\n",
              "      <td>0.086538</td>\n",
              "    </tr>\n",
              "  </tbody>\n",
              "</table>\n",
              "</div>\n",
              "      <button class=\"colab-df-convert\" onclick=\"convertToInteractive('df-6ebee252-909a-4dd4-8af9-7a4fa396708c')\"\n",
              "              title=\"Convert this dataframe to an interactive table.\"\n",
              "              style=\"display:none;\">\n",
              "        \n",
              "  <svg xmlns=\"http://www.w3.org/2000/svg\" height=\"24px\"viewBox=\"0 0 24 24\"\n",
              "       width=\"24px\">\n",
              "    <path d=\"M0 0h24v24H0V0z\" fill=\"none\"/>\n",
              "    <path d=\"M18.56 5.44l.94 2.06.94-2.06 2.06-.94-2.06-.94-.94-2.06-.94 2.06-2.06.94zm-11 1L8.5 8.5l.94-2.06 2.06-.94-2.06-.94L8.5 2.5l-.94 2.06-2.06.94zm10 10l.94 2.06.94-2.06 2.06-.94-2.06-.94-.94-2.06-.94 2.06-2.06.94z\"/><path d=\"M17.41 7.96l-1.37-1.37c-.4-.4-.92-.59-1.43-.59-.52 0-1.04.2-1.43.59L10.3 9.45l-7.72 7.72c-.78.78-.78 2.05 0 2.83L4 21.41c.39.39.9.59 1.41.59.51 0 1.02-.2 1.41-.59l7.78-7.78 2.81-2.81c.8-.78.8-2.07 0-2.86zM5.41 20L4 18.59l7.72-7.72 1.47 1.35L5.41 20z\"/>\n",
              "  </svg>\n",
              "      </button>\n",
              "      \n",
              "  <style>\n",
              "    .colab-df-container {\n",
              "      display:flex;\n",
              "      flex-wrap:wrap;\n",
              "      gap: 12px;\n",
              "    }\n",
              "\n",
              "    .colab-df-convert {\n",
              "      background-color: #E8F0FE;\n",
              "      border: none;\n",
              "      border-radius: 50%;\n",
              "      cursor: pointer;\n",
              "      display: none;\n",
              "      fill: #1967D2;\n",
              "      height: 32px;\n",
              "      padding: 0 0 0 0;\n",
              "      width: 32px;\n",
              "    }\n",
              "\n",
              "    .colab-df-convert:hover {\n",
              "      background-color: #E2EBFA;\n",
              "      box-shadow: 0px 1px 2px rgba(60, 64, 67, 0.3), 0px 1px 3px 1px rgba(60, 64, 67, 0.15);\n",
              "      fill: #174EA6;\n",
              "    }\n",
              "\n",
              "    [theme=dark] .colab-df-convert {\n",
              "      background-color: #3B4455;\n",
              "      fill: #D2E3FC;\n",
              "    }\n",
              "\n",
              "    [theme=dark] .colab-df-convert:hover {\n",
              "      background-color: #434B5C;\n",
              "      box-shadow: 0px 1px 3px 1px rgba(0, 0, 0, 0.15);\n",
              "      filter: drop-shadow(0px 1px 2px rgba(0, 0, 0, 0.3));\n",
              "      fill: #FFFFFF;\n",
              "    }\n",
              "  </style>\n",
              "\n",
              "      <script>\n",
              "        const buttonEl =\n",
              "          document.querySelector('#df-6ebee252-909a-4dd4-8af9-7a4fa396708c button.colab-df-convert');\n",
              "        buttonEl.style.display =\n",
              "          google.colab.kernel.accessAllowed ? 'block' : 'none';\n",
              "\n",
              "        async function convertToInteractive(key) {\n",
              "          const element = document.querySelector('#df-6ebee252-909a-4dd4-8af9-7a4fa396708c');\n",
              "          const dataTable =\n",
              "            await google.colab.kernel.invokeFunction('convertToInteractive',\n",
              "                                                     [key], {});\n",
              "          if (!dataTable) return;\n",
              "\n",
              "          const docLinkHtml = 'Like what you see? Visit the ' +\n",
              "            '<a target=\"_blank\" href=https://colab.research.google.com/notebooks/data_table.ipynb>data table notebook</a>'\n",
              "            + ' to learn more about interactive tables.';\n",
              "          element.innerHTML = '';\n",
              "          dataTable['output_type'] = 'display_data';\n",
              "          await google.colab.output.renderOutput(dataTable, element);\n",
              "          const docLink = document.createElement('div');\n",
              "          docLink.innerHTML = docLinkHtml;\n",
              "          element.appendChild(docLink);\n",
              "        }\n",
              "      </script>\n",
              "    </div>\n",
              "  </div>\n",
              "  "
            ]
          },
          "metadata": {},
          "execution_count": 99
        }
      ]
    },
    {
      "cell_type": "code",
      "source": [
        "location_cpt = pd.DataFrame()\n",
        "\n",
        "for c in cause:\n",
        "  for w in weather:\n",
        "    location_cpt.loc[c, w] = ((disengagements['Weather']==w) & (disengagements['Cause'] == c)).sum() / (disengagements['Cause']==c).sum()\n",
        "location_cpt"
      ],
      "metadata": {
        "colab": {
          "base_uri": "https://localhost:8080/",
          "height": 143
        },
        "id": "ij3GvojrBLOV",
        "outputId": "6728339f-6aa1-47f9-b532-9a24999c3357"
      },
      "id": "ij3GvojrBLOV",
      "execution_count": null,
      "outputs": [
        {
          "output_type": "execute_result",
          "data": {
            "text/plain": [
              "                  cloudy     clear\n",
              "Other           0.913625  0.086375\n",
              "Software Froze  0.387755  0.612245\n",
              "Hardware Fault  0.442308  0.557692"
            ],
            "text/html": [
              "\n",
              "  <div id=\"df-ba8290e9-519b-43cc-8094-8ff5225543d3\">\n",
              "    <div class=\"colab-df-container\">\n",
              "      <div>\n",
              "<style scoped>\n",
              "    .dataframe tbody tr th:only-of-type {\n",
              "        vertical-align: middle;\n",
              "    }\n",
              "\n",
              "    .dataframe tbody tr th {\n",
              "        vertical-align: top;\n",
              "    }\n",
              "\n",
              "    .dataframe thead th {\n",
              "        text-align: right;\n",
              "    }\n",
              "</style>\n",
              "<table border=\"1\" class=\"dataframe\">\n",
              "  <thead>\n",
              "    <tr style=\"text-align: right;\">\n",
              "      <th></th>\n",
              "      <th>cloudy</th>\n",
              "      <th>clear</th>\n",
              "    </tr>\n",
              "  </thead>\n",
              "  <tbody>\n",
              "    <tr>\n",
              "      <th>Other</th>\n",
              "      <td>0.913625</td>\n",
              "      <td>0.086375</td>\n",
              "    </tr>\n",
              "    <tr>\n",
              "      <th>Software Froze</th>\n",
              "      <td>0.387755</td>\n",
              "      <td>0.612245</td>\n",
              "    </tr>\n",
              "    <tr>\n",
              "      <th>Hardware Fault</th>\n",
              "      <td>0.442308</td>\n",
              "      <td>0.557692</td>\n",
              "    </tr>\n",
              "  </tbody>\n",
              "</table>\n",
              "</div>\n",
              "      <button class=\"colab-df-convert\" onclick=\"convertToInteractive('df-ba8290e9-519b-43cc-8094-8ff5225543d3')\"\n",
              "              title=\"Convert this dataframe to an interactive table.\"\n",
              "              style=\"display:none;\">\n",
              "        \n",
              "  <svg xmlns=\"http://www.w3.org/2000/svg\" height=\"24px\"viewBox=\"0 0 24 24\"\n",
              "       width=\"24px\">\n",
              "    <path d=\"M0 0h24v24H0V0z\" fill=\"none\"/>\n",
              "    <path d=\"M18.56 5.44l.94 2.06.94-2.06 2.06-.94-2.06-.94-.94-2.06-.94 2.06-2.06.94zm-11 1L8.5 8.5l.94-2.06 2.06-.94-2.06-.94L8.5 2.5l-.94 2.06-2.06.94zm10 10l.94 2.06.94-2.06 2.06-.94-2.06-.94-.94-2.06-.94 2.06-2.06.94z\"/><path d=\"M17.41 7.96l-1.37-1.37c-.4-.4-.92-.59-1.43-.59-.52 0-1.04.2-1.43.59L10.3 9.45l-7.72 7.72c-.78.78-.78 2.05 0 2.83L4 21.41c.39.39.9.59 1.41.59.51 0 1.02-.2 1.41-.59l7.78-7.78 2.81-2.81c.8-.78.8-2.07 0-2.86zM5.41 20L4 18.59l7.72-7.72 1.47 1.35L5.41 20z\"/>\n",
              "  </svg>\n",
              "      </button>\n",
              "      \n",
              "  <style>\n",
              "    .colab-df-container {\n",
              "      display:flex;\n",
              "      flex-wrap:wrap;\n",
              "      gap: 12px;\n",
              "    }\n",
              "\n",
              "    .colab-df-convert {\n",
              "      background-color: #E8F0FE;\n",
              "      border: none;\n",
              "      border-radius: 50%;\n",
              "      cursor: pointer;\n",
              "      display: none;\n",
              "      fill: #1967D2;\n",
              "      height: 32px;\n",
              "      padding: 0 0 0 0;\n",
              "      width: 32px;\n",
              "    }\n",
              "\n",
              "    .colab-df-convert:hover {\n",
              "      background-color: #E2EBFA;\n",
              "      box-shadow: 0px 1px 2px rgba(60, 64, 67, 0.3), 0px 1px 3px 1px rgba(60, 64, 67, 0.15);\n",
              "      fill: #174EA6;\n",
              "    }\n",
              "\n",
              "    [theme=dark] .colab-df-convert {\n",
              "      background-color: #3B4455;\n",
              "      fill: #D2E3FC;\n",
              "    }\n",
              "\n",
              "    [theme=dark] .colab-df-convert:hover {\n",
              "      background-color: #434B5C;\n",
              "      box-shadow: 0px 1px 3px 1px rgba(0, 0, 0, 0.15);\n",
              "      filter: drop-shadow(0px 1px 2px rgba(0, 0, 0, 0.3));\n",
              "      fill: #FFFFFF;\n",
              "    }\n",
              "  </style>\n",
              "\n",
              "      <script>\n",
              "        const buttonEl =\n",
              "          document.querySelector('#df-ba8290e9-519b-43cc-8094-8ff5225543d3 button.colab-df-convert');\n",
              "        buttonEl.style.display =\n",
              "          google.colab.kernel.accessAllowed ? 'block' : 'none';\n",
              "\n",
              "        async function convertToInteractive(key) {\n",
              "          const element = document.querySelector('#df-ba8290e9-519b-43cc-8094-8ff5225543d3');\n",
              "          const dataTable =\n",
              "            await google.colab.kernel.invokeFunction('convertToInteractive',\n",
              "                                                     [key], {});\n",
              "          if (!dataTable) return;\n",
              "\n",
              "          const docLinkHtml = 'Like what you see? Visit the ' +\n",
              "            '<a target=\"_blank\" href=https://colab.research.google.com/notebooks/data_table.ipynb>data table notebook</a>'\n",
              "            + ' to learn more about interactive tables.';\n",
              "          element.innerHTML = '';\n",
              "          dataTable['output_type'] = 'display_data';\n",
              "          await google.colab.output.renderOutput(dataTable, element);\n",
              "          const docLink = document.createElement('div');\n",
              "          docLink.innerHTML = docLinkHtml;\n",
              "          element.appendChild(docLink);\n",
              "        }\n",
              "      </script>\n",
              "    </div>\n",
              "  </div>\n",
              "  "
            ]
          },
          "metadata": {},
          "execution_count": 100
        }
      ]
    },
    {
      "cell_type": "markdown",
      "source": [
        "\n",
        "\n",
        "*   $P(\\text{other} | \\text{cloudy}, \\text{urban-street}) = 0.802734 \\times 0.913625 \\times 0.993917 = 0.728$ \n",
        "*   $P(\\text{software froze} | \\text{cloudy}, \\text{urban-street}) = 0.095703 \\times 0.387755 \\times 0.938776 = 0.035$ \n",
        "*   $P(\\text{hardware fault} | \\text{cloudy}, \\text{urban-street}) = 0.101562 \\times 0.442308 \\times 0.913462 = 0.041$ \n"
      ],
      "metadata": {
        "id": "uqh0l1i4HZKQ"
      },
      "id": "uqh0l1i4HZKQ"
    },
    {
      "cell_type": "markdown",
      "source": [
        "## Task 3.6d\n",
        "The most possible root cause given the day was cloudy and the Location was urban-street is **other**."
      ],
      "metadata": {
        "id": "DdRe0vPJJ8Go"
      },
      "id": "DdRe0vPJJ8Go"
    },
    {
      "cell_type": "markdown",
      "source": [
        "# Task 4"
      ],
      "metadata": {
        "id": "6yt4IXgnC97_"
      },
      "id": "6yt4IXgnC97_"
    },
    {
      "cell_type": "markdown",
      "source": [
        "## Task 4.1a"
      ],
      "metadata": {
        "id": "aYbf3B8neW36"
      },
      "id": "aYbf3B8neW36"
    },
    {
      "cell_type": "code",
      "source": [
        "simulation = pd.read_csv('part3_data.csv')\n",
        "simulation.drop(simulation.index[simulation['status'] == 'Failed -- Simulator crashed'], inplace = True)\n",
        "accident_p = len(simulation[simulation['status'] == 'Failed -- Accident']) * 1.0 / len(simulation)\n",
        "print(\"The probability of accident P(acc=1) across all weather conditions is\", accident_p)\n",
        "\n",
        "weather = simulation['weather'].unique()\n",
        "print(weather)"
      ],
      "metadata": {
        "id": "TS6nSRhcQKRA",
        "colab": {
          "base_uri": "https://localhost:8080/"
        },
        "outputId": "e3147cbd-a514-4f72-ab7f-edb31b089869"
      },
      "id": "TS6nSRhcQKRA",
      "execution_count": null,
      "outputs": [
        {
          "output_type": "stream",
          "name": "stdout",
          "text": [
            "The probability of accident P(acc=1) across all weather conditions is 0.0898989898989899\n",
            "['clear-noon' 'cloudy-noon' 'rain-noon' 'snow-noon']\n"
          ]
        }
      ]
    },
    {
      "cell_type": "markdown",
      "source": [
        "## Task 4.1b\n",
        "\n",
        "P (Accident = 1 | Weather condition = ?)"
      ],
      "metadata": {
        "id": "cz_2RnmHedjA"
      },
      "id": "cz_2RnmHedjA"
    },
    {
      "cell_type": "code",
      "source": [
        "acc = simulation[simulation['status'] == 'Failed -- Accident']\n",
        "p_a_given_w = {}\n",
        "\n",
        "for weather_condition in ['clear', 'cloudy', 'rain', 'snow']:\n",
        "\n",
        "  weather_simulations = simulation[simulation['weather'].str.startswith(weather_condition, na=False)]\n",
        "  weather_accidents = weather_simulations[weather_simulations['status'] == 'Failed -- Accident']\n",
        "\n",
        "  p_a_given_w[weather_condition] = len(weather_accidents) / len(weather_simulations)\n",
        "  print(weather_condition, len(weather_accidents) / len(weather_simulations))\n",
        "\n"
      ],
      "metadata": {
        "colab": {
          "base_uri": "https://localhost:8080/"
        },
        "id": "aIpK7lolenUb",
        "outputId": "cb671591-5170-44f3-a3ae-e8fd9acd9e0b"
      },
      "id": "aIpK7lolenUb",
      "execution_count": null,
      "outputs": [
        {
          "output_type": "stream",
          "name": "stdout",
          "text": [
            "clear 0.008130081300813009\n",
            "cloudy 0.04251012145748988\n",
            "rain 0.12474849094567404\n",
            "snow 0.18309859154929578\n"
          ]
        }
      ]
    },
    {
      "cell_type": "markdown",
      "source": [
        "## Task 4.2 Probability of Accident\n",
        "\n",
        "Assumption: \\\\\n",
        "1. The AV is equally likely to drive on any weather condition\n",
        "2. Weather condition is mututally exclusive on a day (a day cannot be both clear and cloudy, for example)"
      ],
      "metadata": {
        "id": "Yqo-SBJUCILp"
      },
      "id": "Yqo-SBJUCILp"
    },
    {
      "cell_type": "markdown",
      "source": [
        "Let A be accident, and C be weather where C = {Clear, Cloudy, Rain, Snow} \\\\\n",
        "$P(A) = \\sum_C P(A \\land C)$ By law of total probability \\\\\n",
        "$P(A) = \\sum_C {P (A|C)} {P(C)}$ By conditional probability "
      ],
      "metadata": {
        "id": "jWtu4NSWONhc"
      },
      "id": "jWtu4NSWONhc"
    },
    {
      "cell_type": "code",
      "source": [
        "california_weather = {'clear': 0.72, 'cloudy': 0.15, 'rain': 0.1, 'snow': 0.03}\n",
        "chicago_weather = {'clear': 0.56, 'cloudy': 0.1, 'rain': 0.25, 'snow': 0.09}\n",
        "\n",
        "def probability_projection(p_w, p_a_given_w):\n",
        "  total_probability = 0\n",
        "\n",
        "  for weather_condition in p_a_given_w:\n",
        "    total_probability += p_a_given_w[weather_condition] * p_w[weather_condition]\n",
        "\n",
        "  return total_probability\n",
        "\n",
        "print('Probability of accident in cut-in scenario for California: %f' \n",
        "      % (probability_projection(california_weather, p_a_given_w)))\n",
        "print('Probability of accident in cut-in scenario for Chicago: %f' \n",
        "      % (probability_projection(chicago_weather, p_a_given_w)))\n"
      ],
      "metadata": {
        "colab": {
          "base_uri": "https://localhost:8080/"
        },
        "id": "RsxKKsJIibno",
        "outputId": "8baec994-7127-4caf-afb7-b8ef54323c3f"
      },
      "id": "RsxKKsJIibno",
      "execution_count": null,
      "outputs": [
        {
          "output_type": "stream",
          "name": "stdout",
          "text": [
            "Probability of accident in cut-in scenario for California: 0.030198\n",
            "Probability of accident in cut-in scenario for Chicago: 0.056470\n"
          ]
        }
      ]
    },
    {
      "cell_type": "markdown",
      "source": [
        "## Task 4.3a\n",
        "In oder to make a reasonable comparison between the probabiities of an accident of the simulated dataset and the real dataset, we take only the accidents from the simulation dataset that occured during clear and cloudy weather conditions."
      ],
      "metadata": {
        "id": "YvgLg7gZSgec"
      },
      "id": "YvgLg7gZSgec"
    },
    {
      "cell_type": "code",
      "source": [
        "apm_dmv = 0.000973 # from task 3.4\n",
        "apm_simulation = len(acc[acc.weather.str.contains('clear') | acc.weather.str.contains('cloudy')]) / len(simulation[simulation.weather.str.contains('clear') | simulation.weather.str.contains('cloudy')])\n",
        "\n",
        "apm_dmv, apm_simulation"
      ],
      "metadata": {
        "id": "AJjQwvjrkTOZ",
        "colab": {
          "base_uri": "https://localhost:8080/"
        },
        "outputId": "0c7346a8-1bc6-4feb-bddc-fa7a25863554"
      },
      "id": "AJjQwvjrkTOZ",
      "execution_count": 89,
      "outputs": [
        {
          "output_type": "execute_result",
          "data": {
            "text/plain": [
              "(0.000973, 0.02535496957403651)"
            ]
          },
          "metadata": {},
          "execution_count": 89
        }
      ]
    },
    {
      "cell_type": "markdown",
      "source": [
        "## Task 4.3b\n",
        "Considering for every one mile, there are k cut-in scenarios (independent trials), the probability of having accident is p (the probability of success in each trial). Then using Binomial distribution with n = k, p, and k = 0, the probability of having no accident at all is \n",
        "\n",
        "$P(0) = {k \\choose 0}(1-p)^k = (1-p)^k$ \n",
        "\n",
        "Then\n",
        "\n",
        "$P(\\geq 1) = 1-P(0) = 1- (1-p)^k$"
      ],
      "metadata": {
        "id": "ibMZyo6Hft8s"
      },
      "id": "ibMZyo6Hft8s"
    },
    {
      "cell_type": "markdown",
      "source": [
        "## Task 4.3c\n",
        "The simulated dataset has a higher probabilty of an accident per mile. In this isolated environment that is designed to produce accidents bewteen an AV and eagle vehicle, it is naturally going to have a higher rate of accidents than in real life."
      ],
      "metadata": {
        "id": "JPESVeD1gL4j"
      },
      "id": "JPESVeD1gL4j"
    },
    {
      "cell_type": "markdown",
      "source": [
        "## Task 4.3d\n",
        "\n",
        "Simulation allows more weather condition and more flexible scenarios than what real-world data can generate. This allows us to have a wider perception and take account of possible undesirable road condition and accident in the future."
      ],
      "metadata": {
        "id": "c_E2pCvbgJla"
      },
      "id": "c_E2pCvbgJla"
    },
    {
      "cell_type": "markdown",
      "source": [
        "# Task 4.4\n",
        "More involvement in setting up the simulation runs would be beneficial. In this case, we just had to run the bash and python script. Also, more consistency in the feature names would be nice. For example for task 4.3a, we were unsure whether we could equate \"sunny\" and \"clear\" weather conditions. We assumed they were the same, but clarity here would've saved us time."
      ],
      "metadata": {
        "id": "7yJMGkRQhl6B"
      },
      "id": "7yJMGkRQhl6B"
    }
  ],
  "metadata": {
    "hide_input": false,
    "kernelspec": {
      "display_name": "Python 3.10.7 64-bit (microsoft store)",
      "language": "python",
      "name": "python3"
    },
    "language_info": {
      "codemirror_mode": {
        "name": "ipython",
        "version": 3
      },
      "file_extension": ".py",
      "mimetype": "text/x-python",
      "name": "python",
      "nbconvert_exporter": "python",
      "pygments_lexer": "ipython3",
      "version": "3.10.7"
    },
    "toc": {
      "base_numbering": 1,
      "nav_menu": {},
      "number_sections": true,
      "sideBar": true,
      "skip_h1_title": false,
      "title_cell": "Table of Contents",
      "title_sidebar": "Contents",
      "toc_cell": false,
      "toc_position": {},
      "toc_section_display": true,
      "toc_window_display": false
    },
    "varInspector": {
      "cols": {
        "lenName": 16,
        "lenType": 16,
        "lenVar": 40
      },
      "kernels_config": {
        "python": {
          "delete_cmd_postfix": "",
          "delete_cmd_prefix": "del ",
          "library": "var_list.py",
          "varRefreshCmd": "print(var_dic_list())"
        },
        "r": {
          "delete_cmd_postfix": ") ",
          "delete_cmd_prefix": "rm(",
          "library": "var_list.r",
          "varRefreshCmd": "cat(var_dic_list()) "
        }
      },
      "types_to_exclude": [
        "module",
        "function",
        "builtin_function_or_method",
        "instance",
        "_Feature"
      ],
      "window_display": false
    },
    "vscode": {
      "interpreter": {
        "hash": "9e933e3b68071e9f9d11e583869772e82119aefcf2d7f3e52649b53df6ddf68a"
      }
    },
    "colab": {
      "provenance": [],
      "collapsed_sections": []
    }
  },
  "nbformat": 4,
  "nbformat_minor": 5
}