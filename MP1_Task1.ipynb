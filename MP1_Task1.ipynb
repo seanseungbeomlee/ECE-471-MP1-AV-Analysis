{
 "cells": [
  {
   "cell_type": "code",
   "execution_count": 9,
   "id": "29975330",
   "metadata": {
    "ExecuteTime": {
     "end_time": "2022-09-08T23:08:56.806091Z",
     "start_time": "2022-09-08T23:08:56.386039Z"
    }
   },
   "outputs": [],
   "source": [
    "import pandas as pd"
   ]
  },
  {
   "cell_type": "code",
   "execution_count": 11,
   "id": "136bcd7e",
   "metadata": {
    "ExecuteTime": {
     "end_time": "2022-09-08T23:12:58.590554Z",
     "start_time": "2022-09-08T23:12:58.522467Z"
    }
   },
   "outputs": [],
   "source": [
    "clear_night_ctl = pd.read_csv('campaign_results/route_highway_epoch24_clear-night_fi_ghost_cutin/routes_fi_route_highway-0908_192531-data_fi_ghost_cutin-single_ctl.csv')\n",
    "clear_night_cvip = pd.read_csv('campaign_results/route_highway_epoch24_clear-night_fi_ghost_cutin/routes_fi_route_highway-0908_192531-data_fi_ghost_cutin-single_cvip.csv')\n",
    "clear_night_traj = pd.read_csv('campaign_results/route_highway_epoch24_clear-night_fi_ghost_cutin/routes_fi_route_highway-0908_192531-data_fi_ghost_cutin-single_traj.csv')\n",
    "\n",
    "clear_sunset_ctl = pd.read_csv('campaign_results/route_highway_epoch24_clear-sunset_fi_ghost_cutin/routes_fi_route_highway-0908_191944-data_fi_ghost_cutin-single_ctl.csv')\n",
    "clear_sunset_cvip = pd.read_csv('campaign_results/route_highway_epoch24_clear-sunset_fi_ghost_cutin/routes_fi_route_highway-0908_191944-data_fi_ghost_cutin-single_cvip.csv')\n",
    "clear_sunset_traj = pd.read_csv('campaign_results/route_highway_epoch24_clear-sunset_fi_ghost_cutin/routes_fi_route_highway-0908_191944-data_fi_ghost_cutin-single_traj.csv')\n",
    "\n",
    "clear_noon_ctl = pd.read_csv('campaign_results/route_highway_epoch24_clear-noon_fi_ghost_cutin/routes_fi_route_highway-0908_191445-data_fi_ghost_cutin-single_ctl.csv')\n",
    "clear_noon_cvip = pd.read_csv('campaign_results/route_highway_epoch24_clear-noon_fi_ghost_cutin/routes_fi_route_highway-0908_191445-data_fi_ghost_cutin-single_cvip.csv')\n",
    "clear_noon_traj = pd.read_csv('campaign_results/route_highway_epoch24_clear-noon_fi_ghost_cutin/routes_fi_route_highway-0908_191445-data_fi_ghost_cutin-single_traj.csv')\n",
    "\n",
    "rain_noon_ctl = pd.read_csv('campaign_results/route_highway_epoch24_rain-noon_fi_ghost_cutin/routes_fi_route_highway-0908_191721-data_fi_ghost_cutin-single_ctl.csv')\n",
    "rain_noon_cvip = pd.read_csv('campaign_results/route_highway_epoch24_rain-noon_fi_ghost_cutin/routes_fi_route_highway-0908_191721-data_fi_ghost_cutin-single_cvip.csv')\n",
    "rain_noon_traj = pd.read_csv('campaign_results/route_highway_epoch24_rain-noon_fi_ghost_cutin/routes_fi_route_highway-0908_191721-data_fi_ghost_cutin-single_traj.csv')"
   ]
  },
  {
   "cell_type": "code",
   "execution_count": 12,
   "id": "0a7b71c1",
   "metadata": {
    "ExecuteTime": {
     "end_time": "2022-09-08T23:14:31.040876Z",
     "start_time": "2022-09-08T23:14:31.032513Z"
    }
   },
   "outputs": [
    {
     "data": {
      "text/html": [
       "<div>\n",
       "<style scoped>\n",
       "    .dataframe tbody tr th:only-of-type {\n",
       "        vertical-align: middle;\n",
       "    }\n",
       "\n",
       "    .dataframe tbody tr th {\n",
       "        vertical-align: top;\n",
       "    }\n",
       "\n",
       "    .dataframe thead th {\n",
       "        text-align: right;\n",
       "    }\n",
       "</style>\n",
       "<table border=\"1\" class=\"dataframe\">\n",
       "  <thead>\n",
       "    <tr style=\"text-align: right;\">\n",
       "      <th></th>\n",
       "      <th>ts</th>\n",
       "      <th>agent_id</th>\n",
       "      <th>throttle</th>\n",
       "      <th>steer</th>\n",
       "      <th>brake</th>\n",
       "    </tr>\n",
       "  </thead>\n",
       "  <tbody>\n",
       "    <tr>\n",
       "      <th>0</th>\n",
       "      <td>134037</td>\n",
       "      <td>0</td>\n",
       "      <td>0.9</td>\n",
       "      <td>-0.001351</td>\n",
       "      <td>0.0</td>\n",
       "    </tr>\n",
       "    <tr>\n",
       "      <th>1</th>\n",
       "      <td>134038</td>\n",
       "      <td>0</td>\n",
       "      <td>0.9</td>\n",
       "      <td>-0.009211</td>\n",
       "      <td>0.0</td>\n",
       "    </tr>\n",
       "    <tr>\n",
       "      <th>2</th>\n",
       "      <td>134039</td>\n",
       "      <td>0</td>\n",
       "      <td>0.9</td>\n",
       "      <td>-0.005046</td>\n",
       "      <td>0.0</td>\n",
       "    </tr>\n",
       "    <tr>\n",
       "      <th>3</th>\n",
       "      <td>134040</td>\n",
       "      <td>0</td>\n",
       "      <td>0.9</td>\n",
       "      <td>-0.007152</td>\n",
       "      <td>0.0</td>\n",
       "    </tr>\n",
       "    <tr>\n",
       "      <th>4</th>\n",
       "      <td>134041</td>\n",
       "      <td>0</td>\n",
       "      <td>0.9</td>\n",
       "      <td>-0.001497</td>\n",
       "      <td>0.0</td>\n",
       "    </tr>\n",
       "  </tbody>\n",
       "</table>\n",
       "</div>"
      ],
      "text/plain": [
       "       ts  agent_id  throttle     steer  brake\n",
       "0  134037         0       0.9 -0.001351    0.0\n",
       "1  134038         0       0.9 -0.009211    0.0\n",
       "2  134039         0       0.9 -0.005046    0.0\n",
       "3  134040         0       0.9 -0.007152    0.0\n",
       "4  134041         0       0.9 -0.001497    0.0"
      ]
     },
     "execution_count": 12,
     "metadata": {},
     "output_type": "execute_result"
    }
   ],
   "source": [
    "clear_night_ctl.head()"
   ]
  },
  {
   "cell_type": "code",
   "execution_count": 13,
   "id": "f1fd98a1",
   "metadata": {
    "ExecuteTime": {
     "end_time": "2022-09-08T23:14:31.656254Z",
     "start_time": "2022-09-08T23:14:31.647957Z"
    }
   },
   "outputs": [
    {
     "data": {
      "text/html": [
       "<div>\n",
       "<style scoped>\n",
       "    .dataframe tbody tr th:only-of-type {\n",
       "        vertical-align: middle;\n",
       "    }\n",
       "\n",
       "    .dataframe tbody tr th {\n",
       "        vertical-align: top;\n",
       "    }\n",
       "\n",
       "    .dataframe thead th {\n",
       "        text-align: right;\n",
       "    }\n",
       "</style>\n",
       "<table border=\"1\" class=\"dataframe\">\n",
       "  <thead>\n",
       "    <tr style=\"text-align: right;\">\n",
       "      <th></th>\n",
       "      <th>ts</th>\n",
       "      <th>agent_id</th>\n",
       "      <th>cvip</th>\n",
       "      <th>cvip_x</th>\n",
       "      <th>cvip_y</th>\n",
       "      <th>cvip_z</th>\n",
       "    </tr>\n",
       "  </thead>\n",
       "  <tbody>\n",
       "    <tr>\n",
       "      <th>0</th>\n",
       "      <td>134037</td>\n",
       "      <td>0</td>\n",
       "      <td>500.491189</td>\n",
       "      <td>198.767441</td>\n",
       "      <td>-95.832657</td>\n",
       "      <td>-499.819366</td>\n",
       "    </tr>\n",
       "    <tr>\n",
       "      <th>1</th>\n",
       "      <td>134038</td>\n",
       "      <td>0</td>\n",
       "      <td>5.595580</td>\n",
       "      <td>195.567444</td>\n",
       "      <td>-90.832657</td>\n",
       "      <td>0.100000</td>\n",
       "    </tr>\n",
       "    <tr>\n",
       "      <th>2</th>\n",
       "      <td>134039</td>\n",
       "      <td>0</td>\n",
       "      <td>5.592365</td>\n",
       "      <td>195.567444</td>\n",
       "      <td>-90.832657</td>\n",
       "      <td>0.095407</td>\n",
       "    </tr>\n",
       "    <tr>\n",
       "      <th>3</th>\n",
       "      <td>134040</td>\n",
       "      <td>0</td>\n",
       "      <td>5.589578</td>\n",
       "      <td>195.567444</td>\n",
       "      <td>-90.832657</td>\n",
       "      <td>0.084691</td>\n",
       "    </tr>\n",
       "    <tr>\n",
       "      <th>4</th>\n",
       "      <td>134041</td>\n",
       "      <td>0</td>\n",
       "      <td>5.587154</td>\n",
       "      <td>195.567444</td>\n",
       "      <td>-90.832657</td>\n",
       "      <td>0.069311</td>\n",
       "    </tr>\n",
       "  </tbody>\n",
       "</table>\n",
       "</div>"
      ],
      "text/plain": [
       "       ts  agent_id        cvip      cvip_x     cvip_y      cvip_z\n",
       "0  134037         0  500.491189  198.767441 -95.832657 -499.819366\n",
       "1  134038         0    5.595580  195.567444 -90.832657    0.100000\n",
       "2  134039         0    5.592365  195.567444 -90.832657    0.095407\n",
       "3  134040         0    5.589578  195.567444 -90.832657    0.084691\n",
       "4  134041         0    5.587154  195.567444 -90.832657    0.069311"
      ]
     },
     "execution_count": 13,
     "metadata": {},
     "output_type": "execute_result"
    }
   ],
   "source": [
    "clear_night_cvip.head()"
   ]
  },
  {
   "cell_type": "code",
   "execution_count": 14,
   "id": "7bf9aef3",
   "metadata": {
    "ExecuteTime": {
     "end_time": "2022-09-08T23:14:34.056756Z",
     "start_time": "2022-09-08T23:14:34.048165Z"
    }
   },
   "outputs": [
    {
     "data": {
      "text/html": [
       "<div>\n",
       "<style scoped>\n",
       "    .dataframe tbody tr th:only-of-type {\n",
       "        vertical-align: middle;\n",
       "    }\n",
       "\n",
       "    .dataframe tbody tr th {\n",
       "        vertical-align: top;\n",
       "    }\n",
       "\n",
       "    .dataframe thead th {\n",
       "        text-align: right;\n",
       "    }\n",
       "</style>\n",
       "<table border=\"1\" class=\"dataframe\">\n",
       "  <thead>\n",
       "    <tr style=\"text-align: right;\">\n",
       "      <th></th>\n",
       "      <th>ts</th>\n",
       "      <th>agent_id</th>\n",
       "      <th>x</th>\n",
       "      <th>y</th>\n",
       "      <th>z</th>\n",
       "      <th>v</th>\n",
       "    </tr>\n",
       "  </thead>\n",
       "  <tbody>\n",
       "    <tr>\n",
       "      <th>0</th>\n",
       "      <td>134037</td>\n",
       "      <td>0</td>\n",
       "      <td>192.362411</td>\n",
       "      <td>-86.26268</td>\n",
       "      <td>0.539326</td>\n",
       "      <td>0.0</td>\n",
       "    </tr>\n",
       "    <tr>\n",
       "      <th>1</th>\n",
       "      <td>134038</td>\n",
       "      <td>0</td>\n",
       "      <td>192.362411</td>\n",
       "      <td>-86.26268</td>\n",
       "      <td>0.491906</td>\n",
       "      <td>0.0</td>\n",
       "    </tr>\n",
       "    <tr>\n",
       "      <th>2</th>\n",
       "      <td>134039</td>\n",
       "      <td>0</td>\n",
       "      <td>192.362411</td>\n",
       "      <td>-86.26268</td>\n",
       "      <td>0.438374</td>\n",
       "      <td>0.0</td>\n",
       "    </tr>\n",
       "    <tr>\n",
       "      <th>3</th>\n",
       "      <td>134040</td>\n",
       "      <td>0</td>\n",
       "      <td>192.362411</td>\n",
       "      <td>-86.26268</td>\n",
       "      <td>0.378732</td>\n",
       "      <td>0.0</td>\n",
       "    </tr>\n",
       "    <tr>\n",
       "      <th>4</th>\n",
       "      <td>134041</td>\n",
       "      <td>0</td>\n",
       "      <td>192.362411</td>\n",
       "      <td>-86.26268</td>\n",
       "      <td>0.312981</td>\n",
       "      <td>0.0</td>\n",
       "    </tr>\n",
       "  </tbody>\n",
       "</table>\n",
       "</div>"
      ],
      "text/plain": [
       "       ts  agent_id           x         y         z    v\n",
       "0  134037         0  192.362411 -86.26268  0.539326  0.0\n",
       "1  134038         0  192.362411 -86.26268  0.491906  0.0\n",
       "2  134039         0  192.362411 -86.26268  0.438374  0.0\n",
       "3  134040         0  192.362411 -86.26268  0.378732  0.0\n",
       "4  134041         0  192.362411 -86.26268  0.312981  0.0"
      ]
     },
     "execution_count": 14,
     "metadata": {},
     "output_type": "execute_result"
    }
   ],
   "source": [
    "clear_night_traj.head()"
   ]
  },
  {
   "cell_type": "code",
   "execution_count": 15,
   "id": "21db488e",
   "metadata": {},
   "outputs": [
    {
     "data": {
      "text/html": [
       "<div>\n",
       "<style scoped>\n",
       "    .dataframe tbody tr th:only-of-type {\n",
       "        vertical-align: middle;\n",
       "    }\n",
       "\n",
       "    .dataframe tbody tr th {\n",
       "        vertical-align: top;\n",
       "    }\n",
       "\n",
       "    .dataframe thead th {\n",
       "        text-align: right;\n",
       "    }\n",
       "</style>\n",
       "<table border=\"1\" class=\"dataframe\">\n",
       "  <thead>\n",
       "    <tr style=\"text-align: right;\">\n",
       "      <th></th>\n",
       "      <th>ts</th>\n",
       "      <th>agent_id</th>\n",
       "      <th>throttle</th>\n",
       "      <th>steer</th>\n",
       "      <th>brake</th>\n",
       "    </tr>\n",
       "  </thead>\n",
       "  <tbody>\n",
       "    <tr>\n",
       "      <th>0</th>\n",
       "      <td>129210</td>\n",
       "      <td>0</td>\n",
       "      <td>0.9</td>\n",
       "      <td>-0.014101</td>\n",
       "      <td>0.0</td>\n",
       "    </tr>\n",
       "    <tr>\n",
       "      <th>1</th>\n",
       "      <td>129211</td>\n",
       "      <td>0</td>\n",
       "      <td>0.9</td>\n",
       "      <td>-0.002661</td>\n",
       "      <td>0.0</td>\n",
       "    </tr>\n",
       "    <tr>\n",
       "      <th>2</th>\n",
       "      <td>129212</td>\n",
       "      <td>0</td>\n",
       "      <td>0.9</td>\n",
       "      <td>-0.006610</td>\n",
       "      <td>0.0</td>\n",
       "    </tr>\n",
       "    <tr>\n",
       "      <th>3</th>\n",
       "      <td>129213</td>\n",
       "      <td>0</td>\n",
       "      <td>0.9</td>\n",
       "      <td>-0.002407</td>\n",
       "      <td>0.0</td>\n",
       "    </tr>\n",
       "    <tr>\n",
       "      <th>4</th>\n",
       "      <td>129214</td>\n",
       "      <td>0</td>\n",
       "      <td>0.9</td>\n",
       "      <td>0.000571</td>\n",
       "      <td>0.0</td>\n",
       "    </tr>\n",
       "  </tbody>\n",
       "</table>\n",
       "</div>"
      ],
      "text/plain": [
       "       ts  agent_id  throttle     steer  brake\n",
       "0  129210         0       0.9 -0.014101    0.0\n",
       "1  129211         0       0.9 -0.002661    0.0\n",
       "2  129212         0       0.9 -0.006610    0.0\n",
       "3  129213         0       0.9 -0.002407    0.0\n",
       "4  129214         0       0.9  0.000571    0.0"
      ]
     },
     "execution_count": 15,
     "metadata": {},
     "output_type": "execute_result"
    }
   ],
   "source": [
    "clear_sunset_ctl.head()"
   ]
  },
  {
   "cell_type": "code",
   "execution_count": 16,
   "id": "44dd1657",
   "metadata": {},
   "outputs": [
    {
     "data": {
      "text/html": [
       "<div>\n",
       "<style scoped>\n",
       "    .dataframe tbody tr th:only-of-type {\n",
       "        vertical-align: middle;\n",
       "    }\n",
       "\n",
       "    .dataframe tbody tr th {\n",
       "        vertical-align: top;\n",
       "    }\n",
       "\n",
       "    .dataframe thead th {\n",
       "        text-align: right;\n",
       "    }\n",
       "</style>\n",
       "<table border=\"1\" class=\"dataframe\">\n",
       "  <thead>\n",
       "    <tr style=\"text-align: right;\">\n",
       "      <th></th>\n",
       "      <th>ts</th>\n",
       "      <th>agent_id</th>\n",
       "      <th>throttle</th>\n",
       "      <th>steer</th>\n",
       "      <th>brake</th>\n",
       "    </tr>\n",
       "  </thead>\n",
       "  <tbody>\n",
       "    <tr>\n",
       "      <th>0</th>\n",
       "      <td>126927</td>\n",
       "      <td>0</td>\n",
       "      <td>0.9</td>\n",
       "      <td>0.001857</td>\n",
       "      <td>0.0</td>\n",
       "    </tr>\n",
       "    <tr>\n",
       "      <th>1</th>\n",
       "      <td>126928</td>\n",
       "      <td>0</td>\n",
       "      <td>0.9</td>\n",
       "      <td>0.001890</td>\n",
       "      <td>0.0</td>\n",
       "    </tr>\n",
       "    <tr>\n",
       "      <th>2</th>\n",
       "      <td>126929</td>\n",
       "      <td>0</td>\n",
       "      <td>0.9</td>\n",
       "      <td>0.004431</td>\n",
       "      <td>0.0</td>\n",
       "    </tr>\n",
       "    <tr>\n",
       "      <th>3</th>\n",
       "      <td>126930</td>\n",
       "      <td>0</td>\n",
       "      <td>0.9</td>\n",
       "      <td>0.003124</td>\n",
       "      <td>0.0</td>\n",
       "    </tr>\n",
       "    <tr>\n",
       "      <th>4</th>\n",
       "      <td>126931</td>\n",
       "      <td>0</td>\n",
       "      <td>0.9</td>\n",
       "      <td>0.003851</td>\n",
       "      <td>0.0</td>\n",
       "    </tr>\n",
       "  </tbody>\n",
       "</table>\n",
       "</div>"
      ],
      "text/plain": [
       "       ts  agent_id  throttle     steer  brake\n",
       "0  126927         0       0.9  0.001857    0.0\n",
       "1  126928         0       0.9  0.001890    0.0\n",
       "2  126929         0       0.9  0.004431    0.0\n",
       "3  126930         0       0.9  0.003124    0.0\n",
       "4  126931         0       0.9  0.003851    0.0"
      ]
     },
     "execution_count": 16,
     "metadata": {},
     "output_type": "execute_result"
    }
   ],
   "source": [
    "clear_noon_ctl.head()"
   ]
  }
 ],
 "metadata": {
  "hide_input": false,
  "kernelspec": {
   "display_name": "Python 3.8.3",
   "language": "python",
   "name": "python3"
  },
  "language_info": {
   "codemirror_mode": {
    "name": "ipython",
    "version": 3
   },
   "file_extension": ".py",
   "mimetype": "text/x-python",
   "name": "python",
   "nbconvert_exporter": "python",
   "pygments_lexer": "ipython3",
   "version": "3.8.3"
  },
  "toc": {
   "base_numbering": 1,
   "nav_menu": {},
   "number_sections": true,
   "sideBar": true,
   "skip_h1_title": false,
   "title_cell": "Table of Contents",
   "title_sidebar": "Contents",
   "toc_cell": false,
   "toc_position": {},
   "toc_section_display": true,
   "toc_window_display": false
  },
  "varInspector": {
   "cols": {
    "lenName": 16,
    "lenType": 16,
    "lenVar": 40
   },
   "kernels_config": {
    "python": {
     "delete_cmd_postfix": "",
     "delete_cmd_prefix": "del ",
     "library": "var_list.py",
     "varRefreshCmd": "print(var_dic_list())"
    },
    "r": {
     "delete_cmd_postfix": ") ",
     "delete_cmd_prefix": "rm(",
     "library": "var_list.r",
     "varRefreshCmd": "cat(var_dic_list()) "
    }
   },
   "types_to_exclude": [
    "module",
    "function",
    "builtin_function_or_method",
    "instance",
    "_Feature"
   ],
   "window_display": false
  },
  "vscode": {
   "interpreter": {
    "hash": "3067ead486e059ec00ffe7555bdb889e6e264a24dc711bf108106cc7baee8d5d"
   }
  }
 },
 "nbformat": 4,
 "nbformat_minor": 5
}
